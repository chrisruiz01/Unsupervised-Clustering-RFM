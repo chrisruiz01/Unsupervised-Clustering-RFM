{
 "cells": [
  {
   "cell_type": "markdown",
   "id": "20bfb0d1",
   "metadata": {},
   "source": [
    "# Online Retail Clustering\n",
    "\n",
    "## Table of Contents\n",
    "- [Data Overview  and Preparation](#Data-Overview-and-Preparation)\n",
    "- [Data Cleaning](#Data-Cleaning)\n",
    "- [Feature Engineering and EDA](#Feature-Engineering-and-EDA)\n",
    "- [Model Building](#Model-Building)\n",
    "- [Business Insights and Recommendations](#Business-Insights-and-Recommendations)"
   ]
  },
  {
   "cell_type": "markdown",
   "id": "794b4019",
   "metadata": {},
   "source": [
    "## Introduction\n",
    "\n",
    "This project uses a dataset sourced from [UCI](https://archive.ics.uci.edu/dataset/352/online+retail).\n",
    "\n",
    "## Dataset Overview\n",
    "This is a transnational data set which contains all the transactions occurring between 01/12/2010 and 09/12/2011 for a UK-based and registered non-store online retail.The company mainly sells unique all-occasion gifts. Many customers of the company are wholesalers.\n",
    "\n",
    "* **InvoiceNo**:\ta 6-digit integral number uniquely assigned to each transaction. If this code starts with letter 'c', it indicates a cancellation\n",
    "* **StockCode**:\ta 5-digit integral number uniquely assigned to each distinct product\n",
    "* **Description**:\tproduct name\n",
    "* **Quantity**:\t\tthe quantities of each product (item) per transaction\n",
    "* **InvoiceDate**:\tthe day and time when each transaction was generated\n",
    "* **UnitPrice**:\tproduct price per unit\tsterling\n",
    "* **CustomerID**:\ta 5-digit integral number uniquely assigned to each customer\n",
    "* **Country**:\t\tthe name of the country where each customer resides\n",
    "\n",
    "## Objective\n",
    "To perform RFM clustering"
   ]
  },
  {
   "cell_type": "code",
   "execution_count": 1,
   "id": "fcc4da2e",
   "metadata": {},
   "outputs": [
    {
     "data": {
      "text/html": [
       "<style>.container {width:100% !important}</style>"
      ],
      "text/plain": [
       "<IPython.core.display.HTML object>"
      ]
     },
     "metadata": {},
     "output_type": "display_data"
    }
   ],
   "source": [
    "import pandas as pd\n",
    "import numpy as np\n",
    "from datetime import datetime\n",
    "import datetime as dt\n",
    "\n",
    "import matplotlib.pyplot as plt\n",
    "import matplotlib.dates as mdates\n",
    "from matplotlib.ticker import FuncFormatter\n",
    "import seaborn as sns\n",
    "\n",
    "from sklearn.preprocessing import StandardScaler\n",
    "from sklearn.decomposition import PCA\n",
    "from sklearn.cluster import KMeans, DBSCAN\n",
    "from sklearn.metrics import silhouette_score\n",
    "from scipy.cluster.hierarchy import dendrogram, linkage\n",
    "\n",
    "pd.set_option(\"display.max_columns\", None)\n",
    "plt.rcParams['figure.dpi'] = 75\n",
    "\n",
    "from IPython.display import display, HTML\n",
    "display(HTML(\"<style>.container {width:100% !important}</style>\"))"
   ]
  },
  {
   "cell_type": "code",
   "execution_count": 2,
   "id": "60ed9baf",
   "metadata": {},
   "outputs": [],
   "source": [
    "df = pd.read_csv('Online Retail.csv', encoding='unicode_escape')"
   ]
  },
  {
   "cell_type": "markdown",
   "id": "48bab6ec",
   "metadata": {},
   "source": [
    "## Data Overview and Preparation"
   ]
  },
  {
   "cell_type": "code",
   "execution_count": 3,
   "id": "05ddd215",
   "metadata": {},
   "outputs": [
    {
     "name": "stdout",
     "output_type": "stream",
     "text": [
      "(541909, 8)\n"
     ]
    },
    {
     "data": {
      "text/html": [
       "<div>\n",
       "<style scoped>\n",
       "    .dataframe tbody tr th:only-of-type {\n",
       "        vertical-align: middle;\n",
       "    }\n",
       "\n",
       "    .dataframe tbody tr th {\n",
       "        vertical-align: top;\n",
       "    }\n",
       "\n",
       "    .dataframe thead th {\n",
       "        text-align: right;\n",
       "    }\n",
       "</style>\n",
       "<table border=\"1\" class=\"dataframe\">\n",
       "  <thead>\n",
       "    <tr style=\"text-align: right;\">\n",
       "      <th></th>\n",
       "      <th>InvoiceNo</th>\n",
       "      <th>StockCode</th>\n",
       "      <th>Description</th>\n",
       "      <th>Quantity</th>\n",
       "      <th>InvoiceDate</th>\n",
       "      <th>UnitPrice</th>\n",
       "      <th>CustomerID</th>\n",
       "      <th>Country</th>\n",
       "    </tr>\n",
       "  </thead>\n",
       "  <tbody>\n",
       "    <tr>\n",
       "      <th>0</th>\n",
       "      <td>536365</td>\n",
       "      <td>85123A</td>\n",
       "      <td>WHITE HANGING HEART T-LIGHT HOLDER</td>\n",
       "      <td>6</td>\n",
       "      <td>12/1/2010 8:26</td>\n",
       "      <td>2.55</td>\n",
       "      <td>17850.0</td>\n",
       "      <td>United Kingdom</td>\n",
       "    </tr>\n",
       "    <tr>\n",
       "      <th>1</th>\n",
       "      <td>536365</td>\n",
       "      <td>71053</td>\n",
       "      <td>WHITE METAL LANTERN</td>\n",
       "      <td>6</td>\n",
       "      <td>12/1/2010 8:26</td>\n",
       "      <td>3.39</td>\n",
       "      <td>17850.0</td>\n",
       "      <td>United Kingdom</td>\n",
       "    </tr>\n",
       "    <tr>\n",
       "      <th>2</th>\n",
       "      <td>536365</td>\n",
       "      <td>84406B</td>\n",
       "      <td>CREAM CUPID HEARTS COAT HANGER</td>\n",
       "      <td>8</td>\n",
       "      <td>12/1/2010 8:26</td>\n",
       "      <td>2.75</td>\n",
       "      <td>17850.0</td>\n",
       "      <td>United Kingdom</td>\n",
       "    </tr>\n",
       "    <tr>\n",
       "      <th>3</th>\n",
       "      <td>536365</td>\n",
       "      <td>84029G</td>\n",
       "      <td>KNITTED UNION FLAG HOT WATER BOTTLE</td>\n",
       "      <td>6</td>\n",
       "      <td>12/1/2010 8:26</td>\n",
       "      <td>3.39</td>\n",
       "      <td>17850.0</td>\n",
       "      <td>United Kingdom</td>\n",
       "    </tr>\n",
       "    <tr>\n",
       "      <th>4</th>\n",
       "      <td>536365</td>\n",
       "      <td>84029E</td>\n",
       "      <td>RED WOOLLY HOTTIE WHITE HEART.</td>\n",
       "      <td>6</td>\n",
       "      <td>12/1/2010 8:26</td>\n",
       "      <td>3.39</td>\n",
       "      <td>17850.0</td>\n",
       "      <td>United Kingdom</td>\n",
       "    </tr>\n",
       "  </tbody>\n",
       "</table>\n",
       "</div>"
      ],
      "text/plain": [
       "  InvoiceNo StockCode                          Description  Quantity  \\\n",
       "0    536365    85123A   WHITE HANGING HEART T-LIGHT HOLDER         6   \n",
       "1    536365     71053                  WHITE METAL LANTERN         6   \n",
       "2    536365    84406B       CREAM CUPID HEARTS COAT HANGER         8   \n",
       "3    536365    84029G  KNITTED UNION FLAG HOT WATER BOTTLE         6   \n",
       "4    536365    84029E       RED WOOLLY HOTTIE WHITE HEART.         6   \n",
       "\n",
       "      InvoiceDate  UnitPrice  CustomerID         Country  \n",
       "0  12/1/2010 8:26       2.55     17850.0  United Kingdom  \n",
       "1  12/1/2010 8:26       3.39     17850.0  United Kingdom  \n",
       "2  12/1/2010 8:26       2.75     17850.0  United Kingdom  \n",
       "3  12/1/2010 8:26       3.39     17850.0  United Kingdom  \n",
       "4  12/1/2010 8:26       3.39     17850.0  United Kingdom  "
      ]
     },
     "execution_count": 3,
     "metadata": {},
     "output_type": "execute_result"
    }
   ],
   "source": [
    "print(df.shape)\n",
    "df.head()"
   ]
  },
  {
   "cell_type": "code",
   "execution_count": 4,
   "id": "af442297",
   "metadata": {},
   "outputs": [
    {
     "data": {
      "text/plain": [
       "5268"
      ]
     },
     "execution_count": 4,
     "metadata": {},
     "output_type": "execute_result"
    }
   ],
   "source": [
    "# Checking for duplicates\n",
    "df.duplicated().sum()"
   ]
  },
  {
   "cell_type": "code",
   "execution_count": 5,
   "id": "8d41d9e9",
   "metadata": {
    "scrolled": false
   },
   "outputs": [
    {
     "data": {
      "text/plain": [
       "(536641, 8)"
      ]
     },
     "execution_count": 5,
     "metadata": {},
     "output_type": "execute_result"
    }
   ],
   "source": [
    "df = df.drop_duplicates()\n",
    "df.reset_index(drop=True, inplace=True)\n",
    "df.shape"
   ]
  },
  {
   "cell_type": "code",
   "execution_count": 6,
   "id": "751ab592",
   "metadata": {},
   "outputs": [
    {
     "data": {
      "text/html": [
       "<div>\n",
       "<style scoped>\n",
       "    .dataframe tbody tr th:only-of-type {\n",
       "        vertical-align: middle;\n",
       "    }\n",
       "\n",
       "    .dataframe tbody tr th {\n",
       "        vertical-align: top;\n",
       "    }\n",
       "\n",
       "    .dataframe thead th {\n",
       "        text-align: right;\n",
       "    }\n",
       "</style>\n",
       "<table border=\"1\" class=\"dataframe\">\n",
       "  <thead>\n",
       "    <tr style=\"text-align: right;\">\n",
       "      <th></th>\n",
       "      <th>country</th>\n",
       "      <th>customerid</th>\n",
       "      <th>invoice</th>\n",
       "      <th>date</th>\n",
       "      <th>sku</th>\n",
       "      <th>description</th>\n",
       "      <th>price</th>\n",
       "      <th>units</th>\n",
       "    </tr>\n",
       "  </thead>\n",
       "  <tbody>\n",
       "    <tr>\n",
       "      <th>0</th>\n",
       "      <td>United Kingdom</td>\n",
       "      <td>17850.0</td>\n",
       "      <td>536365</td>\n",
       "      <td>12/1/2010 8:26</td>\n",
       "      <td>85123A</td>\n",
       "      <td>WHITE HANGING HEART T-LIGHT HOLDER</td>\n",
       "      <td>2.55</td>\n",
       "      <td>6</td>\n",
       "    </tr>\n",
       "    <tr>\n",
       "      <th>1</th>\n",
       "      <td>United Kingdom</td>\n",
       "      <td>17850.0</td>\n",
       "      <td>536365</td>\n",
       "      <td>12/1/2010 8:26</td>\n",
       "      <td>71053</td>\n",
       "      <td>WHITE METAL LANTERN</td>\n",
       "      <td>3.39</td>\n",
       "      <td>6</td>\n",
       "    </tr>\n",
       "    <tr>\n",
       "      <th>2</th>\n",
       "      <td>United Kingdom</td>\n",
       "      <td>17850.0</td>\n",
       "      <td>536365</td>\n",
       "      <td>12/1/2010 8:26</td>\n",
       "      <td>84406B</td>\n",
       "      <td>CREAM CUPID HEARTS COAT HANGER</td>\n",
       "      <td>2.75</td>\n",
       "      <td>8</td>\n",
       "    </tr>\n",
       "    <tr>\n",
       "      <th>3</th>\n",
       "      <td>United Kingdom</td>\n",
       "      <td>17850.0</td>\n",
       "      <td>536365</td>\n",
       "      <td>12/1/2010 8:26</td>\n",
       "      <td>84029G</td>\n",
       "      <td>KNITTED UNION FLAG HOT WATER BOTTLE</td>\n",
       "      <td>3.39</td>\n",
       "      <td>6</td>\n",
       "    </tr>\n",
       "    <tr>\n",
       "      <th>4</th>\n",
       "      <td>United Kingdom</td>\n",
       "      <td>17850.0</td>\n",
       "      <td>536365</td>\n",
       "      <td>12/1/2010 8:26</td>\n",
       "      <td>84029E</td>\n",
       "      <td>RED WOOLLY HOTTIE WHITE HEART.</td>\n",
       "      <td>3.39</td>\n",
       "      <td>6</td>\n",
       "    </tr>\n",
       "  </tbody>\n",
       "</table>\n",
       "</div>"
      ],
      "text/plain": [
       "          country  customerid invoice            date     sku  \\\n",
       "0  United Kingdom     17850.0  536365  12/1/2010 8:26  85123A   \n",
       "1  United Kingdom     17850.0  536365  12/1/2010 8:26   71053   \n",
       "2  United Kingdom     17850.0  536365  12/1/2010 8:26  84406B   \n",
       "3  United Kingdom     17850.0  536365  12/1/2010 8:26  84029G   \n",
       "4  United Kingdom     17850.0  536365  12/1/2010 8:26  84029E   \n",
       "\n",
       "                           description  price  units  \n",
       "0   WHITE HANGING HEART T-LIGHT HOLDER   2.55      6  \n",
       "1                  WHITE METAL LANTERN   3.39      6  \n",
       "2       CREAM CUPID HEARTS COAT HANGER   2.75      8  \n",
       "3  KNITTED UNION FLAG HOT WATER BOTTLE   3.39      6  \n",
       "4       RED WOOLLY HOTTIE WHITE HEART.   3.39      6  "
      ]
     },
     "execution_count": 6,
     "metadata": {},
     "output_type": "execute_result"
    }
   ],
   "source": [
    "# Lowercase column names, rename, and reorder for easier manipulation\n",
    "df.columns = df.columns.str.lower()\n",
    "\n",
    "df.rename(columns={'invoiceno': 'invoice',\n",
    "                   'stockcode': 'sku',\n",
    "                   'quantity': 'units',\n",
    "                   'invoicedate': 'date',\n",
    "                   'unitprice': 'price'}, inplace=True)\n",
    "\n",
    "df = df[['country', 'customerid', 'invoice', 'date', 'sku', 'description', 'price', 'units']]\n",
    "df.head()"
   ]
  },
  {
   "cell_type": "code",
   "execution_count": 7,
   "id": "1513271c",
   "metadata": {},
   "outputs": [
    {
     "name": "stdout",
     "output_type": "stream",
     "text": [
      "<class 'pandas.core.frame.DataFrame'>\n",
      "RangeIndex: 536641 entries, 0 to 536640\n",
      "Data columns (total 8 columns):\n",
      " #   Column       Non-Null Count   Dtype  \n",
      "---  ------       --------------   -----  \n",
      " 0   country      536641 non-null  object \n",
      " 1   customerid   401604 non-null  float64\n",
      " 2   invoice      536641 non-null  object \n",
      " 3   date         536641 non-null  object \n",
      " 4   sku          536641 non-null  object \n",
      " 5   description  535187 non-null  object \n",
      " 6   price        536641 non-null  float64\n",
      " 7   units        536641 non-null  int64  \n",
      "dtypes: float64(2), int64(1), object(5)\n",
      "memory usage: 32.8+ MB\n"
     ]
    }
   ],
   "source": [
    "df.info()"
   ]
  },
  {
   "cell_type": "code",
   "execution_count": 8,
   "id": "e39d90c3",
   "metadata": {},
   "outputs": [],
   "source": [
    "# Convert date to datetime and remove hours and minutes\n",
    "df['date'] = pd.to_datetime(df['date'])\n",
    "df['date'] = df['date'].dt.normalize()"
   ]
  },
  {
   "cell_type": "code",
   "execution_count": 9,
   "id": "d4c6530f",
   "metadata": {},
   "outputs": [
    {
     "data": {
      "text/html": [
       "<div>\n",
       "<style scoped>\n",
       "    .dataframe tbody tr th:only-of-type {\n",
       "        vertical-align: middle;\n",
       "    }\n",
       "\n",
       "    .dataframe tbody tr th {\n",
       "        vertical-align: top;\n",
       "    }\n",
       "\n",
       "    .dataframe thead th {\n",
       "        text-align: right;\n",
       "    }\n",
       "</style>\n",
       "<table border=\"1\" class=\"dataframe\">\n",
       "  <thead>\n",
       "    <tr style=\"text-align: right;\">\n",
       "      <th></th>\n",
       "      <th>customerid</th>\n",
       "      <th>date</th>\n",
       "      <th>price</th>\n",
       "      <th>units</th>\n",
       "    </tr>\n",
       "  </thead>\n",
       "  <tbody>\n",
       "    <tr>\n",
       "      <th>count</th>\n",
       "      <td>401604.0</td>\n",
       "      <td>536641</td>\n",
       "      <td>536641.0</td>\n",
       "      <td>536641.0</td>\n",
       "    </tr>\n",
       "    <tr>\n",
       "      <th>mean</th>\n",
       "      <td>15281.0</td>\n",
       "      <td>2011-07-03 19:22:27.938006784</td>\n",
       "      <td>5.0</td>\n",
       "      <td>10.0</td>\n",
       "    </tr>\n",
       "    <tr>\n",
       "      <th>min</th>\n",
       "      <td>12346.0</td>\n",
       "      <td>2010-12-01 00:00:00</td>\n",
       "      <td>-11062.0</td>\n",
       "      <td>-80995.0</td>\n",
       "    </tr>\n",
       "    <tr>\n",
       "      <th>25%</th>\n",
       "      <td>13939.0</td>\n",
       "      <td>2011-03-28 00:00:00</td>\n",
       "      <td>1.0</td>\n",
       "      <td>1.0</td>\n",
       "    </tr>\n",
       "    <tr>\n",
       "      <th>50%</th>\n",
       "      <td>15145.0</td>\n",
       "      <td>2011-07-19 00:00:00</td>\n",
       "      <td>2.0</td>\n",
       "      <td>3.0</td>\n",
       "    </tr>\n",
       "    <tr>\n",
       "      <th>75%</th>\n",
       "      <td>16784.0</td>\n",
       "      <td>2011-10-18 00:00:00</td>\n",
       "      <td>4.0</td>\n",
       "      <td>10.0</td>\n",
       "    </tr>\n",
       "    <tr>\n",
       "      <th>max</th>\n",
       "      <td>18287.0</td>\n",
       "      <td>2011-12-09 00:00:00</td>\n",
       "      <td>38970.0</td>\n",
       "      <td>80995.0</td>\n",
       "    </tr>\n",
       "    <tr>\n",
       "      <th>std</th>\n",
       "      <td>1714.0</td>\n",
       "      <td>NaN</td>\n",
       "      <td>97.0</td>\n",
       "      <td>219.0</td>\n",
       "    </tr>\n",
       "  </tbody>\n",
       "</table>\n",
       "</div>"
      ],
      "text/plain": [
       "       customerid                           date     price     units\n",
       "count    401604.0                         536641  536641.0  536641.0\n",
       "mean      15281.0  2011-07-03 19:22:27.938006784       5.0      10.0\n",
       "min       12346.0            2010-12-01 00:00:00  -11062.0  -80995.0\n",
       "25%       13939.0            2011-03-28 00:00:00       1.0       1.0\n",
       "50%       15145.0            2011-07-19 00:00:00       2.0       3.0\n",
       "75%       16784.0            2011-10-18 00:00:00       4.0      10.0\n",
       "max       18287.0            2011-12-09 00:00:00   38970.0   80995.0\n",
       "std        1714.0                            NaN      97.0     219.0"
      ]
     },
     "execution_count": 9,
     "metadata": {},
     "output_type": "execute_result"
    }
   ],
   "source": [
    "round(df.describe())"
   ]
  },
  {
   "cell_type": "markdown",
   "id": "2213cd2e",
   "metadata": {},
   "source": [
    "Some extreme outliers in units and price"
   ]
  },
  {
   "cell_type": "code",
   "execution_count": 10,
   "id": "cea389bd",
   "metadata": {},
   "outputs": [
    {
     "data": {
      "text/html": [
       "<div>\n",
       "<style scoped>\n",
       "    .dataframe tbody tr th:only-of-type {\n",
       "        vertical-align: middle;\n",
       "    }\n",
       "\n",
       "    .dataframe tbody tr th {\n",
       "        vertical-align: top;\n",
       "    }\n",
       "\n",
       "    .dataframe thead th {\n",
       "        text-align: right;\n",
       "    }\n",
       "</style>\n",
       "<table border=\"1\" class=\"dataframe\">\n",
       "  <thead>\n",
       "    <tr style=\"text-align: right;\">\n",
       "      <th></th>\n",
       "      <th>country</th>\n",
       "      <th>invoice</th>\n",
       "      <th>sku</th>\n",
       "      <th>description</th>\n",
       "    </tr>\n",
       "  </thead>\n",
       "  <tbody>\n",
       "    <tr>\n",
       "      <th>count</th>\n",
       "      <td>536641</td>\n",
       "      <td>536641</td>\n",
       "      <td>536641</td>\n",
       "      <td>535187</td>\n",
       "    </tr>\n",
       "    <tr>\n",
       "      <th>unique</th>\n",
       "      <td>38</td>\n",
       "      <td>25900</td>\n",
       "      <td>4070</td>\n",
       "      <td>4223</td>\n",
       "    </tr>\n",
       "    <tr>\n",
       "      <th>top</th>\n",
       "      <td>United Kingdom</td>\n",
       "      <td>573585</td>\n",
       "      <td>85123A</td>\n",
       "      <td>WHITE HANGING HEART T-LIGHT HOLDER</td>\n",
       "    </tr>\n",
       "    <tr>\n",
       "      <th>freq</th>\n",
       "      <td>490300</td>\n",
       "      <td>1114</td>\n",
       "      <td>2301</td>\n",
       "      <td>2357</td>\n",
       "    </tr>\n",
       "  </tbody>\n",
       "</table>\n",
       "</div>"
      ],
      "text/plain": [
       "               country invoice     sku                         description\n",
       "count           536641  536641  536641                              535187\n",
       "unique              38   25900    4070                                4223\n",
       "top     United Kingdom  573585  85123A  WHITE HANGING HEART T-LIGHT HOLDER\n",
       "freq            490300    1114    2301                                2357"
      ]
     },
     "execution_count": 10,
     "metadata": {},
     "output_type": "execute_result"
    }
   ],
   "source": [
    "df.describe(include='object')"
   ]
  },
  {
   "cell_type": "code",
   "execution_count": 11,
   "id": "3d0bf55d",
   "metadata": {},
   "outputs": [
    {
     "data": {
      "text/plain": [
       "customerid     135037\n",
       "description      1454\n",
       "dtype: int64"
      ]
     },
     "execution_count": 11,
     "metadata": {},
     "output_type": "execute_result"
    }
   ],
   "source": [
    "# Checking missing values\n",
    "df.isnull().sum()[df.isnull().sum() > 0]"
   ]
  },
  {
   "cell_type": "markdown",
   "id": "28eb2588",
   "metadata": {},
   "source": [
    "## Data Cleaning"
   ]
  },
  {
   "cell_type": "code",
   "execution_count": 12,
   "id": "e26d3357",
   "metadata": {},
   "outputs": [
    {
     "data": {
      "text/html": [
       "<div>\n",
       "<style scoped>\n",
       "    .dataframe tbody tr th:only-of-type {\n",
       "        vertical-align: middle;\n",
       "    }\n",
       "\n",
       "    .dataframe tbody tr th {\n",
       "        vertical-align: top;\n",
       "    }\n",
       "\n",
       "    .dataframe thead th {\n",
       "        text-align: right;\n",
       "    }\n",
       "</style>\n",
       "<table border=\"1\" class=\"dataframe\">\n",
       "  <thead>\n",
       "    <tr style=\"text-align: right;\">\n",
       "      <th></th>\n",
       "      <th>country</th>\n",
       "      <th>customerid</th>\n",
       "      <th>invoice</th>\n",
       "      <th>date</th>\n",
       "      <th>sku</th>\n",
       "      <th>description</th>\n",
       "      <th>price</th>\n",
       "      <th>units</th>\n",
       "    </tr>\n",
       "  </thead>\n",
       "  <tbody>\n",
       "    <tr>\n",
       "      <th>535160</th>\n",
       "      <td>United Kingdom</td>\n",
       "      <td>16446.0</td>\n",
       "      <td>581483</td>\n",
       "      <td>2011-12-09</td>\n",
       "      <td>23843</td>\n",
       "      <td>PAPER CRAFT , LITTLE BIRDIE</td>\n",
       "      <td>2.08</td>\n",
       "      <td>80995</td>\n",
       "    </tr>\n",
       "  </tbody>\n",
       "</table>\n",
       "</div>"
      ],
      "text/plain": [
       "               country  customerid invoice       date    sku  \\\n",
       "535160  United Kingdom     16446.0  581483 2011-12-09  23843   \n",
       "\n",
       "                        description  price  units  \n",
       "535160  PAPER CRAFT , LITTLE BIRDIE   2.08  80995  "
      ]
     },
     "execution_count": 12,
     "metadata": {},
     "output_type": "execute_result"
    }
   ],
   "source": [
    "# Looking at outlier units\n",
    "df.loc[df['units'] >= 80995]"
   ]
  },
  {
   "cell_type": "code",
   "execution_count": 13,
   "id": "367b331e",
   "metadata": {},
   "outputs": [
    {
     "data": {
      "text/html": [
       "<div>\n",
       "<style scoped>\n",
       "    .dataframe tbody tr th:only-of-type {\n",
       "        vertical-align: middle;\n",
       "    }\n",
       "\n",
       "    .dataframe tbody tr th {\n",
       "        vertical-align: top;\n",
       "    }\n",
       "\n",
       "    .dataframe thead th {\n",
       "        text-align: right;\n",
       "    }\n",
       "</style>\n",
       "<table border=\"1\" class=\"dataframe\">\n",
       "  <thead>\n",
       "    <tr style=\"text-align: right;\">\n",
       "      <th></th>\n",
       "      <th>country</th>\n",
       "      <th>customerid</th>\n",
       "      <th>invoice</th>\n",
       "      <th>date</th>\n",
       "      <th>sku</th>\n",
       "      <th>description</th>\n",
       "      <th>price</th>\n",
       "      <th>units</th>\n",
       "    </tr>\n",
       "  </thead>\n",
       "  <tbody>\n",
       "    <tr>\n",
       "      <th>192721</th>\n",
       "      <td>United Kingdom</td>\n",
       "      <td>16446.0</td>\n",
       "      <td>553573</td>\n",
       "      <td>2011-05-18</td>\n",
       "      <td>22980</td>\n",
       "      <td>PANTRY SCRUBBING BRUSH</td>\n",
       "      <td>1.65</td>\n",
       "      <td>1</td>\n",
       "    </tr>\n",
       "    <tr>\n",
       "      <th>192722</th>\n",
       "      <td>United Kingdom</td>\n",
       "      <td>16446.0</td>\n",
       "      <td>553573</td>\n",
       "      <td>2011-05-18</td>\n",
       "      <td>22982</td>\n",
       "      <td>PANTRY PASTRY BRUSH</td>\n",
       "      <td>1.25</td>\n",
       "      <td>1</td>\n",
       "    </tr>\n",
       "    <tr>\n",
       "      <th>535160</th>\n",
       "      <td>United Kingdom</td>\n",
       "      <td>16446.0</td>\n",
       "      <td>581483</td>\n",
       "      <td>2011-12-09</td>\n",
       "      <td>23843</td>\n",
       "      <td>PAPER CRAFT , LITTLE BIRDIE</td>\n",
       "      <td>2.08</td>\n",
       "      <td>80995</td>\n",
       "    </tr>\n",
       "    <tr>\n",
       "      <th>535161</th>\n",
       "      <td>United Kingdom</td>\n",
       "      <td>16446.0</td>\n",
       "      <td>C581484</td>\n",
       "      <td>2011-12-09</td>\n",
       "      <td>23843</td>\n",
       "      <td>PAPER CRAFT , LITTLE BIRDIE</td>\n",
       "      <td>2.08</td>\n",
       "      <td>-80995</td>\n",
       "    </tr>\n",
       "  </tbody>\n",
       "</table>\n",
       "</div>"
      ],
      "text/plain": [
       "               country  customerid  invoice       date    sku  \\\n",
       "192721  United Kingdom     16446.0   553573 2011-05-18  22980   \n",
       "192722  United Kingdom     16446.0   553573 2011-05-18  22982   \n",
       "535160  United Kingdom     16446.0   581483 2011-12-09  23843   \n",
       "535161  United Kingdom     16446.0  C581484 2011-12-09  23843   \n",
       "\n",
       "                        description  price  units  \n",
       "192721       PANTRY SCRUBBING BRUSH   1.65      1  \n",
       "192722          PANTRY PASTRY BRUSH   1.25      1  \n",
       "535160  PAPER CRAFT , LITTLE BIRDIE   2.08  80995  \n",
       "535161  PAPER CRAFT , LITTLE BIRDIE   2.08 -80995  "
      ]
     },
     "execution_count": 13,
     "metadata": {},
     "output_type": "execute_result"
    }
   ],
   "source": [
    "df.loc[df['customerid'] == 16446]"
   ]
  },
  {
   "cell_type": "markdown",
   "id": "db3f8f52",
   "metadata": {},
   "source": [
    "This item was cancelled, as indicated by the data dictionary for invoices beginning with \"C\""
   ]
  },
  {
   "cell_type": "code",
   "execution_count": 14,
   "id": "19ea67d6",
   "metadata": {},
   "outputs": [
    {
     "data": {
      "text/html": [
       "<div>\n",
       "<style scoped>\n",
       "    .dataframe tbody tr th:only-of-type {\n",
       "        vertical-align: middle;\n",
       "    }\n",
       "\n",
       "    .dataframe tbody tr th {\n",
       "        vertical-align: top;\n",
       "    }\n",
       "\n",
       "    .dataframe thead th {\n",
       "        text-align: right;\n",
       "    }\n",
       "</style>\n",
       "<table border=\"1\" class=\"dataframe\">\n",
       "  <thead>\n",
       "    <tr style=\"text-align: right;\">\n",
       "      <th></th>\n",
       "      <th>country</th>\n",
       "      <th>customerid</th>\n",
       "      <th>invoice</th>\n",
       "      <th>date</th>\n",
       "      <th>sku</th>\n",
       "      <th>description</th>\n",
       "      <th>price</th>\n",
       "      <th>units</th>\n",
       "      <th>abs_units</th>\n",
       "    </tr>\n",
       "  </thead>\n",
       "  <tbody>\n",
       "    <tr>\n",
       "      <th>192721</th>\n",
       "      <td>United Kingdom</td>\n",
       "      <td>16446.0</td>\n",
       "      <td>553573</td>\n",
       "      <td>2011-05-18</td>\n",
       "      <td>22980</td>\n",
       "      <td>PANTRY SCRUBBING BRUSH</td>\n",
       "      <td>1.65</td>\n",
       "      <td>1</td>\n",
       "      <td>1</td>\n",
       "    </tr>\n",
       "    <tr>\n",
       "      <th>192722</th>\n",
       "      <td>United Kingdom</td>\n",
       "      <td>16446.0</td>\n",
       "      <td>553573</td>\n",
       "      <td>2011-05-18</td>\n",
       "      <td>22982</td>\n",
       "      <td>PANTRY PASTRY BRUSH</td>\n",
       "      <td>1.25</td>\n",
       "      <td>1</td>\n",
       "      <td>1</td>\n",
       "    </tr>\n",
       "    <tr>\n",
       "      <th>535160</th>\n",
       "      <td>United Kingdom</td>\n",
       "      <td>16446.0</td>\n",
       "      <td>581483</td>\n",
       "      <td>2011-12-09</td>\n",
       "      <td>23843</td>\n",
       "      <td>PAPER CRAFT , LITTLE BIRDIE</td>\n",
       "      <td>2.08</td>\n",
       "      <td>80995</td>\n",
       "      <td>80995</td>\n",
       "    </tr>\n",
       "    <tr>\n",
       "      <th>535161</th>\n",
       "      <td>United Kingdom</td>\n",
       "      <td>16446.0</td>\n",
       "      <td>C581484</td>\n",
       "      <td>2011-12-09</td>\n",
       "      <td>23843</td>\n",
       "      <td>PAPER CRAFT , LITTLE BIRDIE</td>\n",
       "      <td>2.08</td>\n",
       "      <td>-80995</td>\n",
       "      <td>80995</td>\n",
       "    </tr>\n",
       "  </tbody>\n",
       "</table>\n",
       "</div>"
      ],
      "text/plain": [
       "               country  customerid  invoice       date    sku  \\\n",
       "192721  United Kingdom     16446.0   553573 2011-05-18  22980   \n",
       "192722  United Kingdom     16446.0   553573 2011-05-18  22982   \n",
       "535160  United Kingdom     16446.0   581483 2011-12-09  23843   \n",
       "535161  United Kingdom     16446.0  C581484 2011-12-09  23843   \n",
       "\n",
       "                        description  price  units  abs_units  \n",
       "192721       PANTRY SCRUBBING BRUSH   1.65      1          1  \n",
       "192722          PANTRY PASTRY BRUSH   1.25      1          1  \n",
       "535160  PAPER CRAFT , LITTLE BIRDIE   2.08  80995      80995  \n",
       "535161  PAPER CRAFT , LITTLE BIRDIE   2.08 -80995      80995  "
      ]
     },
     "execution_count": 14,
     "metadata": {},
     "output_type": "execute_result"
    }
   ],
   "source": [
    "# Adding column for absolute units to subset cancellations\n",
    "df['abs_units'] = df['units'].abs()\n",
    "df.loc[df['customerid'] == 16446]"
   ]
  },
  {
   "cell_type": "code",
   "execution_count": 15,
   "id": "96687782",
   "metadata": {},
   "outputs": [
    {
     "data": {
      "text/html": [
       "<div>\n",
       "<style scoped>\n",
       "    .dataframe tbody tr th:only-of-type {\n",
       "        vertical-align: middle;\n",
       "    }\n",
       "\n",
       "    .dataframe tbody tr th {\n",
       "        vertical-align: top;\n",
       "    }\n",
       "\n",
       "    .dataframe thead th {\n",
       "        text-align: right;\n",
       "    }\n",
       "</style>\n",
       "<table border=\"1\" class=\"dataframe\">\n",
       "  <thead>\n",
       "    <tr style=\"text-align: right;\">\n",
       "      <th></th>\n",
       "      <th>country</th>\n",
       "      <th>customerid</th>\n",
       "      <th>invoice</th>\n",
       "      <th>date</th>\n",
       "      <th>sku</th>\n",
       "      <th>description</th>\n",
       "      <th>price</th>\n",
       "      <th>units</th>\n",
       "      <th>abs_units</th>\n",
       "    </tr>\n",
       "  </thead>\n",
       "  <tbody>\n",
       "    <tr>\n",
       "      <th>535160</th>\n",
       "      <td>United Kingdom</td>\n",
       "      <td>16446.0</td>\n",
       "      <td>581483</td>\n",
       "      <td>2011-12-09</td>\n",
       "      <td>23843</td>\n",
       "      <td>PAPER CRAFT , LITTLE BIRDIE</td>\n",
       "      <td>2.08</td>\n",
       "      <td>80995</td>\n",
       "      <td>80995</td>\n",
       "    </tr>\n",
       "    <tr>\n",
       "      <th>535161</th>\n",
       "      <td>United Kingdom</td>\n",
       "      <td>16446.0</td>\n",
       "      <td>C581484</td>\n",
       "      <td>2011-12-09</td>\n",
       "      <td>23843</td>\n",
       "      <td>PAPER CRAFT , LITTLE BIRDIE</td>\n",
       "      <td>2.08</td>\n",
       "      <td>-80995</td>\n",
       "      <td>80995</td>\n",
       "    </tr>\n",
       "  </tbody>\n",
       "</table>\n",
       "</div>"
      ],
      "text/plain": [
       "               country  customerid  invoice       date    sku  \\\n",
       "535160  United Kingdom     16446.0   581483 2011-12-09  23843   \n",
       "535161  United Kingdom     16446.0  C581484 2011-12-09  23843   \n",
       "\n",
       "                        description  price  units  abs_units  \n",
       "535160  PAPER CRAFT , LITTLE BIRDIE   2.08  80995      80995  \n",
       "535161  PAPER CRAFT , LITTLE BIRDIE   2.08 -80995      80995  "
      ]
     },
     "execution_count": 15,
     "metadata": {},
     "output_type": "execute_result"
    }
   ],
   "source": [
    "# Creating dataframe with cancellations and their original orders\n",
    "returns = df[df.duplicated(subset=['customerid', 'date', 'sku', 'price', 'abs_units'], keep=False)]\n",
    "returns.loc[returns['customerid'] == 16446]"
   ]
  },
  {
   "cell_type": "code",
   "execution_count": 16,
   "id": "10e1816f",
   "metadata": {},
   "outputs": [
    {
     "data": {
      "text/html": [
       "<div>\n",
       "<style scoped>\n",
       "    .dataframe tbody tr th:only-of-type {\n",
       "        vertical-align: middle;\n",
       "    }\n",
       "\n",
       "    .dataframe tbody tr th {\n",
       "        vertical-align: top;\n",
       "    }\n",
       "\n",
       "    .dataframe thead th {\n",
       "        text-align: right;\n",
       "    }\n",
       "</style>\n",
       "<table border=\"1\" class=\"dataframe\">\n",
       "  <thead>\n",
       "    <tr style=\"text-align: right;\">\n",
       "      <th></th>\n",
       "      <th>country</th>\n",
       "      <th>customerid</th>\n",
       "      <th>invoice</th>\n",
       "      <th>date</th>\n",
       "      <th>sku</th>\n",
       "      <th>description</th>\n",
       "      <th>price</th>\n",
       "      <th>units</th>\n",
       "      <th>abs_units</th>\n",
       "    </tr>\n",
       "  </thead>\n",
       "  <tbody>\n",
       "    <tr>\n",
       "      <th>192721</th>\n",
       "      <td>United Kingdom</td>\n",
       "      <td>16446.0</td>\n",
       "      <td>553573</td>\n",
       "      <td>2011-05-18</td>\n",
       "      <td>22980</td>\n",
       "      <td>PANTRY SCRUBBING BRUSH</td>\n",
       "      <td>1.65</td>\n",
       "      <td>1</td>\n",
       "      <td>1</td>\n",
       "    </tr>\n",
       "    <tr>\n",
       "      <th>192722</th>\n",
       "      <td>United Kingdom</td>\n",
       "      <td>16446.0</td>\n",
       "      <td>553573</td>\n",
       "      <td>2011-05-18</td>\n",
       "      <td>22982</td>\n",
       "      <td>PANTRY PASTRY BRUSH</td>\n",
       "      <td>1.25</td>\n",
       "      <td>1</td>\n",
       "      <td>1</td>\n",
       "    </tr>\n",
       "  </tbody>\n",
       "</table>\n",
       "</div>"
      ],
      "text/plain": [
       "               country  customerid invoice       date    sku  \\\n",
       "192721  United Kingdom     16446.0  553573 2011-05-18  22980   \n",
       "192722  United Kingdom     16446.0  553573 2011-05-18  22982   \n",
       "\n",
       "                   description  price  units  abs_units  \n",
       "192721  PANTRY SCRUBBING BRUSH   1.65      1          1  \n",
       "192722     PANTRY PASTRY BRUSH   1.25      1          1  "
      ]
     },
     "execution_count": 16,
     "metadata": {},
     "output_type": "execute_result"
    }
   ],
   "source": [
    "# Removing cancellations from main dataset and validating \n",
    "no_returns = df.drop(returns.index)\n",
    "no_returns.loc[no_returns['customerid'] == 16446]"
   ]
  },
  {
   "cell_type": "code",
   "execution_count": 17,
   "id": "9ff5302d",
   "metadata": {},
   "outputs": [
    {
     "data": {
      "text/plain": [
       "25403"
      ]
     },
     "execution_count": 17,
     "metadata": {},
     "output_type": "execute_result"
    }
   ],
   "source": [
    "# Counting number of cancellations removed\n",
    "df.shape[0] - no_returns.shape[0]"
   ]
  },
  {
   "cell_type": "code",
   "execution_count": 18,
   "id": "3241384e",
   "metadata": {},
   "outputs": [],
   "source": [
    "# Using \"df\" again for easier manipulation\n",
    "df = no_returns.copy().drop('abs_units', axis=1)"
   ]
  },
  {
   "cell_type": "code",
   "execution_count": 19,
   "id": "69e59ea4",
   "metadata": {},
   "outputs": [
    {
     "data": {
      "text/html": [
       "<div>\n",
       "<style scoped>\n",
       "    .dataframe tbody tr th:only-of-type {\n",
       "        vertical-align: middle;\n",
       "    }\n",
       "\n",
       "    .dataframe tbody tr th {\n",
       "        vertical-align: top;\n",
       "    }\n",
       "\n",
       "    .dataframe thead th {\n",
       "        text-align: right;\n",
       "    }\n",
       "</style>\n",
       "<table border=\"1\" class=\"dataframe\">\n",
       "  <thead>\n",
       "    <tr style=\"text-align: right;\">\n",
       "      <th></th>\n",
       "      <th>customerid</th>\n",
       "      <th>date</th>\n",
       "      <th>price</th>\n",
       "      <th>units</th>\n",
       "    </tr>\n",
       "  </thead>\n",
       "  <tbody>\n",
       "    <tr>\n",
       "      <th>count</th>\n",
       "      <td>397644.0</td>\n",
       "      <td>511238</td>\n",
       "      <td>511238.0</td>\n",
       "      <td>511238.0</td>\n",
       "    </tr>\n",
       "    <tr>\n",
       "      <th>mean</th>\n",
       "      <td>15281.0</td>\n",
       "      <td>2011-07-05 05:26:16.967283712</td>\n",
       "      <td>4.0</td>\n",
       "      <td>10.0</td>\n",
       "    </tr>\n",
       "    <tr>\n",
       "      <th>min</th>\n",
       "      <td>12347.0</td>\n",
       "      <td>2010-12-01 00:00:00</td>\n",
       "      <td>0.0</td>\n",
       "      <td>-9360.0</td>\n",
       "    </tr>\n",
       "    <tr>\n",
       "      <th>25%</th>\n",
       "      <td>13941.0</td>\n",
       "      <td>2011-03-29 00:00:00</td>\n",
       "      <td>1.0</td>\n",
       "      <td>1.0</td>\n",
       "    </tr>\n",
       "    <tr>\n",
       "      <th>50%</th>\n",
       "      <td>15144.0</td>\n",
       "      <td>2011-07-21 00:00:00</td>\n",
       "      <td>2.0</td>\n",
       "      <td>4.0</td>\n",
       "    </tr>\n",
       "    <tr>\n",
       "      <th>75%</th>\n",
       "      <td>16781.0</td>\n",
       "      <td>2011-10-19 00:00:00</td>\n",
       "      <td>4.0</td>\n",
       "      <td>12.0</td>\n",
       "    </tr>\n",
       "    <tr>\n",
       "      <th>max</th>\n",
       "      <td>18287.0</td>\n",
       "      <td>2011-12-09 00:00:00</td>\n",
       "      <td>38970.0</td>\n",
       "      <td>12540.0</td>\n",
       "    </tr>\n",
       "    <tr>\n",
       "      <th>std</th>\n",
       "      <td>1712.0</td>\n",
       "      <td>NaN</td>\n",
       "      <td>88.0</td>\n",
       "      <td>52.0</td>\n",
       "    </tr>\n",
       "  </tbody>\n",
       "</table>\n",
       "</div>"
      ],
      "text/plain": [
       "       customerid                           date     price     units\n",
       "count    397644.0                         511238  511238.0  511238.0\n",
       "mean      15281.0  2011-07-05 05:26:16.967283712       4.0      10.0\n",
       "min       12347.0            2010-12-01 00:00:00       0.0   -9360.0\n",
       "25%       13941.0            2011-03-29 00:00:00       1.0       1.0\n",
       "50%       15144.0            2011-07-21 00:00:00       2.0       4.0\n",
       "75%       16781.0            2011-10-19 00:00:00       4.0      12.0\n",
       "max       18287.0            2011-12-09 00:00:00   38970.0   12540.0\n",
       "std        1712.0                            NaN      88.0      52.0"
      ]
     },
     "execution_count": 19,
     "metadata": {},
     "output_type": "execute_result"
    }
   ],
   "source": [
    "round(df.describe())"
   ]
  },
  {
   "cell_type": "code",
   "execution_count": 20,
   "id": "3d5c3196",
   "metadata": {},
   "outputs": [
    {
     "data": {
      "text/html": [
       "<div>\n",
       "<style scoped>\n",
       "    .dataframe tbody tr th:only-of-type {\n",
       "        vertical-align: middle;\n",
       "    }\n",
       "\n",
       "    .dataframe tbody tr th {\n",
       "        vertical-align: top;\n",
       "    }\n",
       "\n",
       "    .dataframe thead th {\n",
       "        text-align: right;\n",
       "    }\n",
       "</style>\n",
       "<table border=\"1\" class=\"dataframe\">\n",
       "  <thead>\n",
       "    <tr style=\"text-align: right;\">\n",
       "      <th></th>\n",
       "      <th>country</th>\n",
       "      <th>customerid</th>\n",
       "      <th>invoice</th>\n",
       "      <th>date</th>\n",
       "      <th>sku</th>\n",
       "      <th>description</th>\n",
       "      <th>price</th>\n",
       "      <th>units</th>\n",
       "    </tr>\n",
       "  </thead>\n",
       "  <tbody>\n",
       "    <tr>\n",
       "      <th>497394</th>\n",
       "      <td>United Kingdom</td>\n",
       "      <td>13256.0</td>\n",
       "      <td>578841</td>\n",
       "      <td>2011-11-25</td>\n",
       "      <td>84826</td>\n",
       "      <td>ASSTD DESIGN 3D PAPER STICKERS</td>\n",
       "      <td>0.0</td>\n",
       "      <td>12540</td>\n",
       "    </tr>\n",
       "  </tbody>\n",
       "</table>\n",
       "</div>"
      ],
      "text/plain": [
       "               country  customerid invoice       date    sku  \\\n",
       "497394  United Kingdom     13256.0  578841 2011-11-25  84826   \n",
       "\n",
       "                           description  price  units  \n",
       "497394  ASSTD DESIGN 3D PAPER STICKERS    0.0  12540  "
      ]
     },
     "execution_count": 20,
     "metadata": {},
     "output_type": "execute_result"
    }
   ],
   "source": [
    "# Checking outlier units again\n",
    "df.loc[df['units'] >= 12540]"
   ]
  },
  {
   "cell_type": "markdown",
   "id": "08396a6a",
   "metadata": {},
   "source": [
    "Still seeing some prices at zero"
   ]
  },
  {
   "cell_type": "code",
   "execution_count": 21,
   "id": "34a42934",
   "metadata": {},
   "outputs": [
    {
     "data": {
      "text/html": [
       "<div>\n",
       "<style scoped>\n",
       "    .dataframe tbody tr th:only-of-type {\n",
       "        vertical-align: middle;\n",
       "    }\n",
       "\n",
       "    .dataframe tbody tr th {\n",
       "        vertical-align: top;\n",
       "    }\n",
       "\n",
       "    .dataframe thead th {\n",
       "        text-align: right;\n",
       "    }\n",
       "</style>\n",
       "<table border=\"1\" class=\"dataframe\">\n",
       "  <thead>\n",
       "    <tr style=\"text-align: right;\">\n",
       "      <th></th>\n",
       "      <th>country</th>\n",
       "      <th>customerid</th>\n",
       "      <th>invoice</th>\n",
       "      <th>date</th>\n",
       "      <th>sku</th>\n",
       "      <th>description</th>\n",
       "      <th>price</th>\n",
       "      <th>units</th>\n",
       "    </tr>\n",
       "  </thead>\n",
       "  <tbody>\n",
       "    <tr>\n",
       "      <th>220826</th>\n",
       "      <td>United Kingdom</td>\n",
       "      <td>15098.0</td>\n",
       "      <td>C556445</td>\n",
       "      <td>2011-06-10</td>\n",
       "      <td>M</td>\n",
       "      <td>Manual</td>\n",
       "      <td>38970.0</td>\n",
       "      <td>-1</td>\n",
       "    </tr>\n",
       "  </tbody>\n",
       "</table>\n",
       "</div>"
      ],
      "text/plain": [
       "               country  customerid  invoice       date sku description  \\\n",
       "220826  United Kingdom     15098.0  C556445 2011-06-10   M      Manual   \n",
       "\n",
       "          price  units  \n",
       "220826  38970.0     -1  "
      ]
     },
     "execution_count": 21,
     "metadata": {},
     "output_type": "execute_result"
    }
   ],
   "source": [
    "# Checking outlier prices\n",
    "df.loc[df['price'] >= 38970]"
   ]
  },
  {
   "cell_type": "code",
   "execution_count": 22,
   "id": "0b400ffb",
   "metadata": {},
   "outputs": [
    {
     "data": {
      "text/plain": [
       "(500376, 8)"
      ]
     },
     "execution_count": 22,
     "metadata": {},
     "output_type": "execute_result"
    }
   ],
   "source": [
    "# Keep only positive values and check new row count\n",
    "df = df[(df['units'] > 0) & (df['price'] > 0)]\n",
    "df.shape"
   ]
  },
  {
   "cell_type": "code",
   "execution_count": 23,
   "id": "acecf2d9",
   "metadata": {},
   "outputs": [
    {
     "data": {
      "text/html": [
       "<div>\n",
       "<style scoped>\n",
       "    .dataframe tbody tr th:only-of-type {\n",
       "        vertical-align: middle;\n",
       "    }\n",
       "\n",
       "    .dataframe tbody tr th {\n",
       "        vertical-align: top;\n",
       "    }\n",
       "\n",
       "    .dataframe thead th {\n",
       "        text-align: right;\n",
       "    }\n",
       "</style>\n",
       "<table border=\"1\" class=\"dataframe\">\n",
       "  <thead>\n",
       "    <tr style=\"text-align: right;\">\n",
       "      <th></th>\n",
       "      <th>customerid</th>\n",
       "      <th>date</th>\n",
       "      <th>price</th>\n",
       "      <th>units</th>\n",
       "    </tr>\n",
       "  </thead>\n",
       "  <tbody>\n",
       "    <tr>\n",
       "      <th>count</th>\n",
       "      <td>389558.0</td>\n",
       "      <td>500376</td>\n",
       "      <td>500376.0</td>\n",
       "      <td>500376.0</td>\n",
       "    </tr>\n",
       "    <tr>\n",
       "      <th>mean</th>\n",
       "      <td>15286.0</td>\n",
       "      <td>2011-07-05 12:35:31.785697280</td>\n",
       "      <td>4.0</td>\n",
       "      <td>11.0</td>\n",
       "    </tr>\n",
       "    <tr>\n",
       "      <th>min</th>\n",
       "      <td>12347.0</td>\n",
       "      <td>2010-12-01 00:00:00</td>\n",
       "      <td>0.0</td>\n",
       "      <td>1.0</td>\n",
       "    </tr>\n",
       "    <tr>\n",
       "      <th>25%</th>\n",
       "      <td>13956.0</td>\n",
       "      <td>2011-03-29 00:00:00</td>\n",
       "      <td>1.0</td>\n",
       "      <td>1.0</td>\n",
       "    </tr>\n",
       "    <tr>\n",
       "      <th>50%</th>\n",
       "      <td>15150.0</td>\n",
       "      <td>2011-07-21 00:00:00</td>\n",
       "      <td>2.0</td>\n",
       "      <td>4.0</td>\n",
       "    </tr>\n",
       "    <tr>\n",
       "      <th>75%</th>\n",
       "      <td>16790.0</td>\n",
       "      <td>2011-10-19 00:00:00</td>\n",
       "      <td>4.0</td>\n",
       "      <td>12.0</td>\n",
       "    </tr>\n",
       "    <tr>\n",
       "      <th>max</th>\n",
       "      <td>18287.0</td>\n",
       "      <td>2011-12-09 00:00:00</td>\n",
       "      <td>11062.0</td>\n",
       "      <td>4800.0</td>\n",
       "    </tr>\n",
       "    <tr>\n",
       "      <th>std</th>\n",
       "      <td>1712.0</td>\n",
       "      <td>NaN</td>\n",
       "      <td>26.0</td>\n",
       "      <td>38.0</td>\n",
       "    </tr>\n",
       "  </tbody>\n",
       "</table>\n",
       "</div>"
      ],
      "text/plain": [
       "       customerid                           date     price     units\n",
       "count    389558.0                         500376  500376.0  500376.0\n",
       "mean      15286.0  2011-07-05 12:35:31.785697280       4.0      11.0\n",
       "min       12347.0            2010-12-01 00:00:00       0.0       1.0\n",
       "25%       13956.0            2011-03-29 00:00:00       1.0       1.0\n",
       "50%       15150.0            2011-07-21 00:00:00       2.0       4.0\n",
       "75%       16790.0            2011-10-19 00:00:00       4.0      12.0\n",
       "max       18287.0            2011-12-09 00:00:00   11062.0    4800.0\n",
       "std        1712.0                            NaN      26.0      38.0"
      ]
     },
     "execution_count": 23,
     "metadata": {},
     "output_type": "execute_result"
    }
   ],
   "source": [
    "round(df.describe())"
   ]
  },
  {
   "cell_type": "markdown",
   "id": "5fa8c926",
   "metadata": {},
   "source": [
    "Investigating outlier prices and units once more"
   ]
  },
  {
   "cell_type": "code",
   "execution_count": 24,
   "id": "282e6baf",
   "metadata": {},
   "outputs": [
    {
     "data": {
      "text/html": [
       "<div>\n",
       "<style scoped>\n",
       "    .dataframe tbody tr th:only-of-type {\n",
       "        vertical-align: middle;\n",
       "    }\n",
       "\n",
       "    .dataframe tbody tr th {\n",
       "        vertical-align: top;\n",
       "    }\n",
       "\n",
       "    .dataframe thead th {\n",
       "        text-align: right;\n",
       "    }\n",
       "</style>\n",
       "<table border=\"1\" class=\"dataframe\">\n",
       "  <thead>\n",
       "    <tr style=\"text-align: right;\">\n",
       "      <th></th>\n",
       "      <th>country</th>\n",
       "      <th>customerid</th>\n",
       "      <th>invoice</th>\n",
       "      <th>date</th>\n",
       "      <th>sku</th>\n",
       "      <th>description</th>\n",
       "      <th>price</th>\n",
       "      <th>units</th>\n",
       "    </tr>\n",
       "  </thead>\n",
       "  <tbody>\n",
       "    <tr>\n",
       "      <th>297645</th>\n",
       "      <td>United Kingdom</td>\n",
       "      <td>NaN</td>\n",
       "      <td>A563185</td>\n",
       "      <td>2011-08-12</td>\n",
       "      <td>B</td>\n",
       "      <td>Adjust bad debt</td>\n",
       "      <td>11062.06</td>\n",
       "      <td>1</td>\n",
       "    </tr>\n",
       "  </tbody>\n",
       "</table>\n",
       "</div>"
      ],
      "text/plain": [
       "               country  customerid  invoice       date sku      description  \\\n",
       "297645  United Kingdom         NaN  A563185 2011-08-12   B  Adjust bad debt   \n",
       "\n",
       "           price  units  \n",
       "297645  11062.06      1  "
      ]
     },
     "execution_count": 24,
     "metadata": {},
     "output_type": "execute_result"
    }
   ],
   "source": [
    "df.loc[df['price'] >= 11062]"
   ]
  },
  {
   "cell_type": "markdown",
   "id": "d4e7c2ab",
   "metadata": {},
   "source": [
    "Outlier price has missing customer and description is not product"
   ]
  },
  {
   "cell_type": "code",
   "execution_count": 25,
   "id": "2c27401e",
   "metadata": {},
   "outputs": [
    {
     "data": {
      "text/html": [
       "<div>\n",
       "<style scoped>\n",
       "    .dataframe tbody tr th:only-of-type {\n",
       "        vertical-align: middle;\n",
       "    }\n",
       "\n",
       "    .dataframe tbody tr th {\n",
       "        vertical-align: top;\n",
       "    }\n",
       "\n",
       "    .dataframe thead th {\n",
       "        text-align: right;\n",
       "    }\n",
       "</style>\n",
       "<table border=\"1\" class=\"dataframe\">\n",
       "  <thead>\n",
       "    <tr style=\"text-align: right;\">\n",
       "      <th></th>\n",
       "      <th>country</th>\n",
       "      <th>customerid</th>\n",
       "      <th>invoice</th>\n",
       "      <th>date</th>\n",
       "      <th>sku</th>\n",
       "      <th>description</th>\n",
       "      <th>price</th>\n",
       "      <th>units</th>\n",
       "    </tr>\n",
       "  </thead>\n",
       "  <tbody>\n",
       "    <tr>\n",
       "      <th>418119</th>\n",
       "      <td>United Kingdom</td>\n",
       "      <td>12901.0</td>\n",
       "      <td>573008</td>\n",
       "      <td>2011-10-27</td>\n",
       "      <td>84077</td>\n",
       "      <td>WORLD WAR 2 GLIDERS ASSTD DESIGNS</td>\n",
       "      <td>0.21</td>\n",
       "      <td>4800</td>\n",
       "    </tr>\n",
       "  </tbody>\n",
       "</table>\n",
       "</div>"
      ],
      "text/plain": [
       "               country  customerid invoice       date    sku  \\\n",
       "418119  United Kingdom     12901.0  573008 2011-10-27  84077   \n",
       "\n",
       "                              description  price  units  \n",
       "418119  WORLD WAR 2 GLIDERS ASSTD DESIGNS   0.21   4800  "
      ]
     },
     "execution_count": 25,
     "metadata": {},
     "output_type": "execute_result"
    }
   ],
   "source": [
    "df.loc[df['units'] >= 4800]"
   ]
  },
  {
   "cell_type": "markdown",
   "id": "6dcff54b",
   "metadata": {},
   "source": [
    "High outlier units is legit"
   ]
  },
  {
   "cell_type": "code",
   "execution_count": 26,
   "id": "382c8ab5",
   "metadata": {
    "scrolled": true
   },
   "outputs": [
    {
     "data": {
      "text/plain": [
       "customerid    110818\n",
       "dtype: int64"
      ]
     },
     "execution_count": 26,
     "metadata": {},
     "output_type": "execute_result"
    }
   ],
   "source": [
    "# Checking for missing values\n",
    "df.isnull().sum()[df.isnull().sum() > 0]"
   ]
  },
  {
   "cell_type": "code",
   "execution_count": 27,
   "id": "aedfc7ac",
   "metadata": {},
   "outputs": [
    {
     "data": {
      "text/plain": [
       "(389558, 8)"
      ]
     },
     "execution_count": 27,
     "metadata": {},
     "output_type": "execute_result"
    }
   ],
   "source": [
    "# Drop nulls and check new row count\n",
    "df = df.dropna().reset_index(drop=True)\n",
    "df.shape"
   ]
  },
  {
   "cell_type": "markdown",
   "id": "c1ac5124",
   "metadata": {},
   "source": [
    "## Feature Engineering and EDA"
   ]
  },
  {
   "cell_type": "code",
   "execution_count": 28,
   "id": "1fb8c08a",
   "metadata": {},
   "outputs": [],
   "source": [
    "# Adding sales column before aggregating\n",
    "df['sales'] = df['price'] * df['units']\n",
    "\n",
    "# Convert customerid to string before aggregating\n",
    "df['customerid'] = df['customerid'].astype('str')\n",
    "df['customerid'] = df['customerid'].str.rstrip('0').str.rstrip('.')"
   ]
  },
  {
   "cell_type": "code",
   "execution_count": 29,
   "id": "83d4fa4f",
   "metadata": {},
   "outputs": [
    {
     "data": {
      "text/html": [
       "<div>\n",
       "<style scoped>\n",
       "    .dataframe tbody tr th:only-of-type {\n",
       "        vertical-align: middle;\n",
       "    }\n",
       "\n",
       "    .dataframe tbody tr th {\n",
       "        vertical-align: top;\n",
       "    }\n",
       "\n",
       "    .dataframe thead th {\n",
       "        text-align: right;\n",
       "    }\n",
       "</style>\n",
       "<table border=\"1\" class=\"dataframe\">\n",
       "  <thead>\n",
       "    <tr style=\"text-align: right;\">\n",
       "      <th></th>\n",
       "      <th>country</th>\n",
       "      <th>customerid</th>\n",
       "      <th>invoice</th>\n",
       "      <th>date</th>\n",
       "      <th>sku</th>\n",
       "      <th>description</th>\n",
       "      <th>units</th>\n",
       "      <th>sales</th>\n",
       "    </tr>\n",
       "  </thead>\n",
       "  <tbody>\n",
       "    <tr>\n",
       "      <th>0</th>\n",
       "      <td>Australia</td>\n",
       "      <td>12386</td>\n",
       "      <td>537676</td>\n",
       "      <td>2010-12-08</td>\n",
       "      <td>21906</td>\n",
       "      <td>PHARMACIE FIRST AID TIN</td>\n",
       "      <td>4</td>\n",
       "      <td>27.0</td>\n",
       "    </tr>\n",
       "    <tr>\n",
       "      <th>1</th>\n",
       "      <td>Australia</td>\n",
       "      <td>12386</td>\n",
       "      <td>537676</td>\n",
       "      <td>2010-12-08</td>\n",
       "      <td>22495</td>\n",
       "      <td>SET OF 2 ROUND TINS CAMEMBERT</td>\n",
       "      <td>6</td>\n",
       "      <td>17.7</td>\n",
       "    </tr>\n",
       "    <tr>\n",
       "      <th>2</th>\n",
       "      <td>Australia</td>\n",
       "      <td>12386</td>\n",
       "      <td>537676</td>\n",
       "      <td>2010-12-08</td>\n",
       "      <td>22555</td>\n",
       "      <td>PLASTERS IN TIN STRONGMAN</td>\n",
       "      <td>12</td>\n",
       "      <td>19.8</td>\n",
       "    </tr>\n",
       "    <tr>\n",
       "      <th>3</th>\n",
       "      <td>Australia</td>\n",
       "      <td>12386</td>\n",
       "      <td>537676</td>\n",
       "      <td>2010-12-08</td>\n",
       "      <td>22557</td>\n",
       "      <td>PLASTERS IN TIN VINTAGE PAISLEY</td>\n",
       "      <td>12</td>\n",
       "      <td>19.8</td>\n",
       "    </tr>\n",
       "    <tr>\n",
       "      <th>4</th>\n",
       "      <td>Australia</td>\n",
       "      <td>12386</td>\n",
       "      <td>537676</td>\n",
       "      <td>2010-12-08</td>\n",
       "      <td>22567</td>\n",
       "      <td>20 DOLLY PEGS RETROSPOT</td>\n",
       "      <td>24</td>\n",
       "      <td>30.0</td>\n",
       "    </tr>\n",
       "  </tbody>\n",
       "</table>\n",
       "</div>"
      ],
      "text/plain": [
       "     country customerid invoice       date    sku  \\\n",
       "0  Australia      12386  537676 2010-12-08  21906   \n",
       "1  Australia      12386  537676 2010-12-08  22495   \n",
       "2  Australia      12386  537676 2010-12-08  22555   \n",
       "3  Australia      12386  537676 2010-12-08  22557   \n",
       "4  Australia      12386  537676 2010-12-08  22567   \n",
       "\n",
       "                        description  units  sales  \n",
       "0           PHARMACIE FIRST AID TIN      4   27.0  \n",
       "1    SET OF 2 ROUND TINS CAMEMBERT       6   17.7  \n",
       "2         PLASTERS IN TIN STRONGMAN     12   19.8  \n",
       "3  PLASTERS IN TIN VINTAGE PAISLEY      12   19.8  \n",
       "4           20 DOLLY PEGS RETROSPOT     24   30.0  "
      ]
     },
     "execution_count": 29,
     "metadata": {},
     "output_type": "execute_result"
    }
   ],
   "source": [
    "# Aggregate by date and exclude price since addition of sales column\n",
    "group = df.select_dtypes(exclude=np.number).drop_duplicates()\n",
    "group = group.columns.tolist()\n",
    "df = df.groupby(group)[['units', 'sales']].sum().reset_index()\n",
    "df.head()"
   ]
  },
  {
   "cell_type": "markdown",
   "id": "da931c67",
   "metadata": {},
   "source": [
    "## Exploratory Data Analysis"
   ]
  },
  {
   "cell_type": "code",
   "execution_count": 30,
   "id": "72a32edd",
   "metadata": {},
   "outputs": [
    {
     "data": {
      "image/png": "[encoded data removed]",
      "text/plain": [
       "<Figure size 900x375 with 2 Axes>"
      ]
     },
     "metadata": {},
     "output_type": "display_data"
    }
   ],
   "source": [
    "# Visualizing outliers\n",
    "nums = df[['units', 'sales']].columns.tolist()\n",
    "plt.figure(figsize=(12, 5))\n",
    "\n",
    "for i, variable in enumerate(nums):\n",
    "    plt.subplot(1, 2, i + 1)\n",
    "    sns.boxplot(df[variable])\n",
    "    plt.title(f'Distribution of {variable}')\n",
    "plt.tight_layout(pad=3)\n",
    "plt.show()"
   ]
  },
  {
   "cell_type": "markdown",
   "id": "ba703e87",
   "metadata": {},
   "source": [
    "What do sales and units look like over time?"
   ]
  },
  {
   "cell_type": "code",
   "execution_count": 31,
   "id": "920e10fa",
   "metadata": {},
   "outputs": [
    {
     "data": {
      "image/png": "[encoded data removed]",
      "text/plain": [
       "<Figure size 750x375 with 1 Axes>"
      ]
     },
     "metadata": {},
     "output_type": "display_data"
    }
   ],
   "source": [
    "# Function to format y-axis without scientific notation\n",
    "def human_format(x, pos):\n",
    "    return f'{int(x):,}'\n",
    "\n",
    "# date lineplot\n",
    "monthly_data = df[['date', 'units', 'sales']].resample('ME', on='date').sum().reset_index()\n",
    "monthly_data = monthly_data[:-1]\n",
    "\n",
    "plt.figure(figsize=(10, 5))\n",
    "sns.lineplot(x='date', y='sales', data=monthly_data, marker='o')\n",
    "\n",
    "# Set major locator to month and formatter to show month and year\n",
    "plt.gca().xaxis.set_major_locator(mdates.MonthLocator())\n",
    "\n",
    "# Remove scientific notation on y-axis labels\n",
    "plt.gca().yaxis.set_major_formatter(FuncFormatter(human_format))\n",
    "\n",
    "plt.title('Sales over time')\n",
    "plt.xlabel('Month')\n",
    "plt.ylabel('Sales')\n",
    "plt.grid(True)\n",
    "plt.xticks(rotation=45) \n",
    "plt.tight_layout()\n",
    "plt.show()"
   ]
  },
  {
   "cell_type": "markdown",
   "id": "855a8b66",
   "metadata": {},
   "source": [
    "### RFM analysis\n",
    "\n",
    "**Recency:** days since last customer transaction  \n",
    "**Frequency:** number of transactions in the last 12 months  \n",
    "**Monetary Value:** total spend in the last 12 months"
   ]
  },
  {
   "cell_type": "code",
   "execution_count": 32,
   "id": "90b1fd69",
   "metadata": {},
   "outputs": [],
   "source": [
    "latest_day = max(df.date) + dt.timedelta(days=1)"
   ]
  },
  {
   "cell_type": "code",
   "execution_count": 33,
   "id": "97b1c7b8",
   "metadata": {},
   "outputs": [
    {
     "data": {
      "text/html": [
       "<div>\n",
       "<style scoped>\n",
       "    .dataframe tbody tr th:only-of-type {\n",
       "        vertical-align: middle;\n",
       "    }\n",
       "\n",
       "    .dataframe tbody tr th {\n",
       "        vertical-align: top;\n",
       "    }\n",
       "\n",
       "    .dataframe thead th {\n",
       "        text-align: right;\n",
       "    }\n",
       "</style>\n",
       "<table border=\"1\" class=\"dataframe\">\n",
       "  <thead>\n",
       "    <tr style=\"text-align: right;\">\n",
       "      <th></th>\n",
       "      <th>Recency</th>\n",
       "      <th>Frequency</th>\n",
       "      <th>Monetary</th>\n",
       "    </tr>\n",
       "    <tr>\n",
       "      <th>customerid</th>\n",
       "      <th></th>\n",
       "      <th></th>\n",
       "      <th></th>\n",
       "    </tr>\n",
       "  </thead>\n",
       "  <tbody>\n",
       "    <tr>\n",
       "      <th>12347</th>\n",
       "      <td>3</td>\n",
       "      <td>182</td>\n",
       "      <td>4310.00</td>\n",
       "    </tr>\n",
       "    <tr>\n",
       "      <th>12348</th>\n",
       "      <td>76</td>\n",
       "      <td>27</td>\n",
       "      <td>1797.24</td>\n",
       "    </tr>\n",
       "    <tr>\n",
       "      <th>12349</th>\n",
       "      <td>19</td>\n",
       "      <td>73</td>\n",
       "      <td>1757.55</td>\n",
       "    </tr>\n",
       "    <tr>\n",
       "      <th>12350</th>\n",
       "      <td>311</td>\n",
       "      <td>17</td>\n",
       "      <td>334.40</td>\n",
       "    </tr>\n",
       "    <tr>\n",
       "      <th>12352</th>\n",
       "      <td>37</td>\n",
       "      <td>75</td>\n",
       "      <td>1545.41</td>\n",
       "    </tr>\n",
       "  </tbody>\n",
       "</table>\n",
       "</div>"
      ],
      "text/plain": [
       "            Recency  Frequency  Monetary\n",
       "customerid                              \n",
       "12347             3        182   4310.00\n",
       "12348            76         27   1797.24\n",
       "12349            19         73   1757.55\n",
       "12350           311         17    334.40\n",
       "12352            37         75   1545.41"
      ]
     },
     "execution_count": 33,
     "metadata": {},
     "output_type": "execute_result"
    }
   ],
   "source": [
    "# Calculate Recency, Frequency and Monetary value for each customer \n",
    "rfm = df.groupby(['customerid']).agg({\n",
    "    'date': lambda x: (latest_day - x.max()).days,\n",
    "    'invoice': 'count',\n",
    "    'sales': 'sum'})\n",
    "\n",
    "# Rename columns\n",
    "rfm.rename(columns = {'date': 'Recency',\n",
    "                      'invoice': 'Frequency',\n",
    "                      'sales': 'Monetary'}, inplace=True)\n",
    "rfm.head()"
   ]
  },
  {
   "cell_type": "markdown",
   "id": "7889296f",
   "metadata": {},
   "source": [
    "## Preprocessing"
   ]
  },
  {
   "cell_type": "code",
   "execution_count": 34,
   "id": "682c3205",
   "metadata": {},
   "outputs": [
    {
     "data": {
      "text/plain": [
       "Recency      1.0\n",
       "Frequency    1.0\n",
       "Monetary     2.9\n",
       "dtype: float64"
      ]
     },
     "execution_count": 34,
     "metadata": {},
     "output_type": "execute_result"
    }
   ],
   "source": [
    "# Check for Near-Zero Values to ensure that there are no values extremely close to zero before the log transformation\n",
    "rfm.min()"
   ]
  },
  {
   "cell_type": "code",
   "execution_count": 35,
   "id": "80058e44",
   "metadata": {},
   "outputs": [
    {
     "data": {
      "text/html": [
       "<div>\n",
       "<style scoped>\n",
       "    .dataframe tbody tr th:only-of-type {\n",
       "        vertical-align: middle;\n",
       "    }\n",
       "\n",
       "    .dataframe tbody tr th {\n",
       "        vertical-align: top;\n",
       "    }\n",
       "\n",
       "    .dataframe thead th {\n",
       "        text-align: right;\n",
       "    }\n",
       "</style>\n",
       "<table border=\"1\" class=\"dataframe\">\n",
       "  <thead>\n",
       "    <tr style=\"text-align: right;\">\n",
       "      <th></th>\n",
       "      <th>Recency</th>\n",
       "      <th>Frequency</th>\n",
       "      <th>Monetary</th>\n",
       "    </tr>\n",
       "  </thead>\n",
       "  <tbody>\n",
       "    <tr>\n",
       "      <th>count</th>\n",
       "      <td>4334.00</td>\n",
       "      <td>4334.00</td>\n",
       "      <td>4334.00</td>\n",
       "    </tr>\n",
       "    <tr>\n",
       "      <th>mean</th>\n",
       "      <td>0.00</td>\n",
       "      <td>0.00</td>\n",
       "      <td>0.00</td>\n",
       "    </tr>\n",
       "    <tr>\n",
       "      <th>std</th>\n",
       "      <td>1.00</td>\n",
       "      <td>1.00</td>\n",
       "      <td>1.00</td>\n",
       "    </tr>\n",
       "    <tr>\n",
       "      <th>min</th>\n",
       "      <td>-2.75</td>\n",
       "      <td>-2.79</td>\n",
       "      <td>-4.39</td>\n",
       "    </tr>\n",
       "    <tr>\n",
       "      <th>25%</th>\n",
       "      <td>-0.66</td>\n",
       "      <td>-0.63</td>\n",
       "      <td>-0.68</td>\n",
       "    </tr>\n",
       "    <tr>\n",
       "      <th>50%</th>\n",
       "      <td>0.09</td>\n",
       "      <td>0.02</td>\n",
       "      <td>-0.06</td>\n",
       "    </tr>\n",
       "    <tr>\n",
       "      <th>75%</th>\n",
       "      <td>0.84</td>\n",
       "      <td>0.70</td>\n",
       "      <td>0.66</td>\n",
       "    </tr>\n",
       "    <tr>\n",
       "      <th>max</th>\n",
       "      <td>1.53</td>\n",
       "      <td>4.01</td>\n",
       "      <td>4.75</td>\n",
       "    </tr>\n",
       "  </tbody>\n",
       "</table>\n",
       "</div>"
      ],
      "text/plain": [
       "       Recency  Frequency  Monetary\n",
       "count  4334.00    4334.00   4334.00\n",
       "mean      0.00       0.00      0.00\n",
       "std       1.00       1.00      1.00\n",
       "min      -2.75      -2.79     -4.39\n",
       "25%      -0.66      -0.63     -0.68\n",
       "50%       0.09       0.02     -0.06\n",
       "75%       0.84       0.70      0.66\n",
       "max       1.53       4.01      4.75"
      ]
     },
     "execution_count": 35,
     "metadata": {},
     "output_type": "execute_result"
    }
   ],
   "source": [
    "# Center and scale\n",
    "# Add a small constant to avoid log(0)\n",
    "\n",
    "rfm = rfm + 1e-6\n",
    "rfm_log = np.log(rfm)\n",
    "\n",
    "scaler = StandardScaler()\n",
    "scaler.fit(rfm_log)\n",
    "\n",
    "normalized = scaler.transform(rfm_log)\n",
    "rfm_scaled = pd.DataFrame(data=normalized, index=rfm.index, columns=rfm.columns)\n",
    "\n",
    "rfm_scaled.describe().round(2)"
   ]
  },
  {
   "cell_type": "code",
   "execution_count": 36,
   "id": "83adc5fd",
   "metadata": {},
   "outputs": [
    {
     "data": {
      "image/png": "[encoded data removed]",
      "text/plain": [
       "<Figure size 900x225 with 3 Axes>"
      ]
     },
     "metadata": {},
     "output_type": "display_data"
    }
   ],
   "source": [
    "# Visualizing distributions after log transformations\n",
    "plt.figure(figsize=(12, 3))\n",
    "plt.subplot(1, 3, 1); sns.histplot(rfm_scaled['Recency'], kde=True)\n",
    "plt.subplot(1, 3, 2); sns.histplot(rfm_scaled['Frequency'], kde=True)\n",
    "plt.subplot(1, 3, 3); sns.histplot(rfm_scaled['Monetary'], kde=True)\n",
    "plt.tight_layout()\n",
    "plt.show()"
   ]
  },
  {
   "cell_type": "markdown",
   "id": "5315701f",
   "metadata": {},
   "source": [
    "## Model Building"
   ]
  },
  {
   "cell_type": "markdown",
   "id": "52e76455",
   "metadata": {},
   "source": [
    "#### K-Means"
   ]
  },
  {
   "cell_type": "code",
   "execution_count": 37,
   "id": "177af8b0",
   "metadata": {},
   "outputs": [],
   "source": [
    "sse = {}\n",
    "for k in range(1, 11):\n",
    "    kmeans = KMeans(n_clusters=k, random_state=1, n_init=10)\n",
    "    kmeans.fit(rfm_scaled)\n",
    "    sse[k] = kmeans.inertia_"
   ]
  },
  {
   "cell_type": "code",
   "execution_count": 38,
   "id": "9fdecc13",
   "metadata": {},
   "outputs": [
    {
     "data": {
      "image/png": "[encoded data removed]",
      "text/plain": [
       "<Figure size 480x360 with 1 Axes>"
      ]
     },
     "metadata": {},
     "output_type": "display_data"
    }
   ],
   "source": [
    "plt.title('The Elbow Method')\n",
    "plt.xlabel('k')\n",
    "plt.ylabel('SSE')\n",
    "sns.pointplot(x=list(sse.keys()), y=list(sse.values()))\n",
    "plt.show()"
   ]
  },
  {
   "cell_type": "markdown",
   "id": "964b9d7e",
   "metadata": {},
   "source": [
    "Analyze and visualize results"
   ]
  },
  {
   "cell_type": "code",
   "execution_count": 39,
   "id": "696755d3",
   "metadata": {},
   "outputs": [
    {
     "name": "stdout",
     "output_type": "stream",
     "text": [
      "For n_clusters=2, the silhouette score is 0.3953747346482828\n",
      "For n_clusters=3, the silhouette score is 0.30422038114207794\n",
      "For n_clusters=4, the silhouette score is 0.30329244070212247\n",
      "For n_clusters=5, the silhouette score is 0.28028165683730627\n",
      "For n_clusters=6, the silhouette score is 0.2775081225328099\n",
      "For n_clusters=7, the silhouette score is 0.2672714649513879\n",
      "For n_clusters=8, the silhouette score is 0.2604801343973245\n"
     ]
    }
   ],
   "source": [
    "# Silhouette analysis\n",
    "range_n_clusters = [2, 3, 4, 5, 6, 7, 8]\n",
    "\n",
    "for num_clusters in range_n_clusters:\n",
    "    \n",
    "    # intialise kmeans\n",
    "    kmeans = KMeans(n_clusters=num_clusters, random_state=1, n_init=10)\n",
    "    kmeans.fit(rfm_scaled)\n",
    "    \n",
    "    cluster_labels = kmeans.labels_\n",
    "    \n",
    "    # silhouette score\n",
    "    silhouette_avg = silhouette_score(rfm_scaled, cluster_labels)\n",
    "    print(\"For n_clusters={0}, the silhouette score is {1}\".format(num_clusters, silhouette_avg))"
   ]
  },
  {
   "cell_type": "markdown",
   "id": "84506e2d",
   "metadata": {},
   "source": [
    "* 2 clusters has the highest score but might not provide enough granularity to gain deeper insights into customer behavior\n",
    "* 3 and 4 clusters are close on silhouette score, but 3 is the better choice with slightly higher score"
   ]
  },
  {
   "cell_type": "code",
   "execution_count": 40,
   "id": "7fd077d9",
   "metadata": {},
   "outputs": [
    {
     "data": {
      "image/png": "[encoded data removed]",
      "text/plain": [
       "<Figure size 600x450 with 1 Axes>"
      ]
     },
     "metadata": {},
     "output_type": "display_data"
    }
   ],
   "source": [
    "# Function to plot clusters\n",
    "def plot_clusters(rfm_scaled, cluster_labels, centroids, n_clusters):\n",
    "    pca = PCA(n_components=2)\n",
    "    principal_components = pca.fit_transform(rfm_scaled)\n",
    "    centroid_components = pca.transform(centroids)\n",
    "\n",
    "    plt.figure(figsize=(8, 6))\n",
    "    for i in range(n_clusters):\n",
    "        plt.scatter(principal_components[cluster_labels == i, 0], \n",
    "                    principal_components[cluster_labels == i, 1], \n",
    "                    label='Cluster ' + str(i + 1))\n",
    "        \n",
    "    # Plot centroids\n",
    "    plt.scatter(centroid_components[:, 0], centroid_components[:, 1], \n",
    "                s=300, c='red', label='Centroids', marker='X')\n",
    "    \n",
    "    plt.xlabel('PCA Component 1')\n",
    "    plt.ylabel('PCA Component 2')\n",
    "    plt.title(f'Clusters Visualization with {n_clusters} Clusters')\n",
    "    plt.legend()\n",
    "    plt.show()\n",
    "    \n",
    "# Clustering with 3 clusters\n",
    "kmeans_3 = KMeans(n_clusters=3, random_state=1, n_init=10)\n",
    "kmeans_3.fit(normalized)\n",
    "cluster_labels_3 = kmeans_3.labels_\n",
    "centroids_3 = kmeans_3.cluster_centers_\n",
    "\n",
    "# Plot clusters\n",
    "plot_clusters(normalized, cluster_labels_3, centroids_3, 3)"
   ]
  },
  {
   "cell_type": "markdown",
   "id": "d6ba1a18",
   "metadata": {},
   "source": [
    "3 clusters in the PCA visualization reveal distinct regions with some overlap"
   ]
  },
  {
   "cell_type": "code",
   "execution_count": 41,
   "id": "5893e2ea",
   "metadata": {},
   "outputs": [
    {
     "name": "stdout",
     "output_type": "stream",
     "text": [
      "Cluster_3\n",
      "1    1850\n",
      "0    1534\n",
      "2     950\n",
      "Name: count, dtype: int64\n"
     ]
    },
    {
     "data": {
      "text/html": [
       "<div>\n",
       "<style scoped>\n",
       "    .dataframe tbody tr th:only-of-type {\n",
       "        vertical-align: middle;\n",
       "    }\n",
       "\n",
       "    .dataframe tbody tr th {\n",
       "        vertical-align: top;\n",
       "    }\n",
       "\n",
       "    .dataframe thead th {\n",
       "        text-align: right;\n",
       "    }\n",
       "</style>\n",
       "<table border=\"1\" class=\"dataframe\">\n",
       "  <thead>\n",
       "    <tr style=\"text-align: right;\">\n",
       "      <th></th>\n",
       "      <th>Recency</th>\n",
       "      <th>Frequency</th>\n",
       "      <th>Monetary</th>\n",
       "    </tr>\n",
       "    <tr>\n",
       "      <th>Cluster_3</th>\n",
       "      <th></th>\n",
       "      <th></th>\n",
       "      <th></th>\n",
       "    </tr>\n",
       "  </thead>\n",
       "  <tbody>\n",
       "    <tr>\n",
       "      <th>0</th>\n",
       "      <td>172</td>\n",
       "      <td>14</td>\n",
       "      <td>293</td>\n",
       "    </tr>\n",
       "    <tr>\n",
       "      <th>1</th>\n",
       "      <td>67</td>\n",
       "      <td>63</td>\n",
       "      <td>1112</td>\n",
       "    </tr>\n",
       "    <tr>\n",
       "      <th>2</th>\n",
       "      <td>13</td>\n",
       "      <td>256</td>\n",
       "      <td>6265</td>\n",
       "    </tr>\n",
       "  </tbody>\n",
       "</table>\n",
       "</div>"
      ],
      "text/plain": [
       "           Recency  Frequency  Monetary\n",
       "Cluster_3                              \n",
       "0              172         14       293\n",
       "1               67         63      1112\n",
       "2               13        256      6265"
      ]
     },
     "execution_count": 41,
     "metadata": {},
     "output_type": "execute_result"
    }
   ],
   "source": [
    "# Create a copy of original rfm dataframe to preserve it\n",
    "rfm_3 = rfm.copy()\n",
    "rfm_3['Cluster_3'] = kmeans_3.labels_\n",
    "\n",
    "# Analyzing cluster characteristics for 3 clusters\n",
    "Cluster_summary = rfm_3.groupby('Cluster_3').mean()\n",
    "print(rfm_3['Cluster_3'].value_counts())\n",
    "Cluster_summary.astype('int')"
   ]
  },
  {
   "cell_type": "markdown",
   "id": "b54bae22",
   "metadata": {},
   "source": [
    "## Business Insights and Recommendations"
   ]
  },
  {
   "cell_type": "markdown",
   "id": "7fb09540",
   "metadata": {},
   "source": [
    "**Cluster 0** represents customers who haven't purchased in a while, as indicated by high recency, make infrequent purchases, and have low monetary value  \n",
    "* These could be churned or inactive customers the company could target with a reactivation campain to re-engage them. The company could better understand these customers through surveys, then offer discounts or special offers. \n",
    "\n",
    "**Cluster 1** includes customers who purchased somewhat recently, make frequent purchases, and have high monetary value  \n",
    "* The company could reward these customers through loyalty programs and offer personalized recommendations based on their purchasing history.\n",
    "\n",
    "**Cluster 2** customers have made very recent purchases and are the most frequent buyers, as well as have the highest monetary value\n",
    "* These are the customers to target with VIP treatment, such as dedicated customer service or exclusive offers, focusing on retention strategies to ensure they continue to feel valued and appreciated. With their high monetary value, these customers could also repond well to cross-selling or upselling techniques to introduce them to complimentary products."
   ]
  },
  {
   "cell_type": "markdown",
   "id": "e129fe9c",
   "metadata": {},
   "source": [
    "### DBSCAN\n",
    "\n",
    "*The following is a test, which did not yet achieve strong results. The eps value of 0.3 appears to be a good approximation based on the plot, but it produced 11 clusters. Therefore, 0.5 was tested to get fewer clusters, which are heavily imbalanced.*"
   ]
  },
  {
   "cell_type": "code",
   "execution_count": 42,
   "id": "c4934199",
   "metadata": {},
   "outputs": [
    {
     "data": {
      "image/png": "[encoded data removed]",
      "text/plain": [
       "<Figure size 480x360 with 1 Axes>"
      ]
     },
     "metadata": {},
     "output_type": "display_data"
    }
   ],
   "source": [
    "from sklearn.neighbors import NearestNeighbors\n",
    "\n",
    "# Compute the k-nearest neighbors\n",
    "neighbors = NearestNeighbors(n_neighbors=4)\n",
    "neighbors_fit = neighbors.fit(rfm_scaled)\n",
    "distances, indices = neighbors_fit.kneighbors(rfm_scaled)\n",
    "\n",
    "# Sort the distances and plot the k-distance graph\n",
    "distances = np.sort(distances, axis=0)\n",
    "distances = distances[:, 1]\n",
    "plt.plot(distances)\n",
    "plt.xlabel('Points sorted by distance')\n",
    "plt.ylabel('Epsilon distance')\n",
    "plt.title('K-distance graph for DBSCAN')\n",
    "plt.grid(True)\n",
    "plt.show()"
   ]
  },
  {
   "cell_type": "code",
   "execution_count": 43,
   "id": "9b9066d6",
   "metadata": {},
   "outputs": [
    {
     "name": "stdout",
     "output_type": "stream",
     "text": [
      "Number of clusters found: 4\n"
     ]
    },
    {
     "data": {
      "text/html": [
       "<div>\n",
       "<style scoped>\n",
       "    .dataframe tbody tr th:only-of-type {\n",
       "        vertical-align: middle;\n",
       "    }\n",
       "\n",
       "    .dataframe tbody tr th {\n",
       "        vertical-align: top;\n",
       "    }\n",
       "\n",
       "    .dataframe thead th {\n",
       "        text-align: right;\n",
       "    }\n",
       "</style>\n",
       "<table border=\"1\" class=\"dataframe\">\n",
       "  <thead>\n",
       "    <tr style=\"text-align: right;\">\n",
       "      <th></th>\n",
       "      <th>Recency</th>\n",
       "      <th>Frequency</th>\n",
       "      <th>Monetary</th>\n",
       "      <th>Cluster</th>\n",
       "    </tr>\n",
       "    <tr>\n",
       "      <th>customerid</th>\n",
       "      <th></th>\n",
       "      <th></th>\n",
       "      <th></th>\n",
       "      <th></th>\n",
       "    </tr>\n",
       "  </thead>\n",
       "  <tbody>\n",
       "    <tr>\n",
       "      <th>12347</th>\n",
       "      <td>-1.957343</td>\n",
       "      <td>1.176900</td>\n",
       "      <td>1.430777</td>\n",
       "      <td>0</td>\n",
       "    </tr>\n",
       "    <tr>\n",
       "      <th>12348</th>\n",
       "      <td>0.381181</td>\n",
       "      <td>-0.276992</td>\n",
       "      <td>0.733129</td>\n",
       "      <td>0</td>\n",
       "    </tr>\n",
       "    <tr>\n",
       "      <th>12349</th>\n",
       "      <td>-0.621839</td>\n",
       "      <td>0.480841</td>\n",
       "      <td>0.715317</td>\n",
       "      <td>0</td>\n",
       "    </tr>\n",
       "    <tr>\n",
       "      <th>12350</th>\n",
       "      <td>1.400672</td>\n",
       "      <td>-0.629479</td>\n",
       "      <td>-0.608168</td>\n",
       "      <td>0</td>\n",
       "    </tr>\n",
       "    <tr>\n",
       "      <th>12352</th>\n",
       "      <td>-0.139624</td>\n",
       "      <td>0.501435</td>\n",
       "      <td>0.612721</td>\n",
       "      <td>0</td>\n",
       "    </tr>\n",
       "  </tbody>\n",
       "</table>\n",
       "</div>"
      ],
      "text/plain": [
       "             Recency  Frequency  Monetary  Cluster\n",
       "customerid                                        \n",
       "12347      -1.957343   1.176900  1.430777        0\n",
       "12348       0.381181  -0.276992  0.733129        0\n",
       "12349      -0.621839   0.480841  0.715317        0\n",
       "12350       1.400672  -0.629479 -0.608168        0\n",
       "12352      -0.139624   0.501435  0.612721        0"
      ]
     },
     "execution_count": 43,
     "metadata": {},
     "output_type": "execute_result"
    }
   ],
   "source": [
    "# Apply DBSCAN\n",
    "eps_value = 0.5\n",
    "min_samples_value = 5\n",
    "\n",
    "db = DBSCAN(eps=eps_value, min_samples=min_samples_value)\n",
    "clusters = db.fit_predict(rfm_scaled)\n",
    "\n",
    "# Add the cluster labels to the original dataframe\n",
    "rfm_scaled['Cluster'] = clusters\n",
    "\n",
    "# Display the number of clusters found\n",
    "num_clusters = len(set(clusters)) - (1 if -1 in clusters else 0)\n",
    "print(f\"Number of clusters found: {num_clusters}\")\n",
    "\n",
    "# Display the first few rows of the dataframe with cluster labels\n",
    "rfm_scaled.head()"
   ]
  },
  {
   "cell_type": "code",
   "execution_count": 44,
   "id": "99b7896f",
   "metadata": {},
   "outputs": [
    {
     "name": "stdout",
     "output_type": "stream",
     "text": [
      "Cluster\n",
      " 0    4181\n",
      "-1      79\n",
      " 3      49\n",
      " 1      17\n",
      " 2       8\n",
      "Name: count, dtype: int64\n"
     ]
    }
   ],
   "source": [
    "cluster_profile = rfm_scaled['Cluster'].value_counts()\n",
    "print(cluster_profile )"
   ]
  },
  {
   "cell_type": "markdown",
   "id": "31de977e",
   "metadata": {},
   "source": [
    "### Hierarchical\n",
    "*Thus far, hierarchical clustering produced an excessive number of clusters as well*"
   ]
  },
  {
   "cell_type": "code",
   "execution_count": 45,
   "id": "bef368ba",
   "metadata": {},
   "outputs": [],
   "source": [
    "# Perform hierarchical/agglomerative clustering\n",
    "linked = linkage(rfm_scaled, method='ward')"
   ]
  },
  {
   "cell_type": "code",
   "execution_count": 46,
   "id": "b9b9f961",
   "metadata": {},
   "outputs": [
    {
     "data": {
      "image/png": "[encoded data removed]",
      "text/plain": [
       "<Figure size 750x525 with 1 Axes>"
      ]
     },
     "metadata": {},
     "output_type": "display_data"
    }
   ],
   "source": [
    "plt.figure(figsize=(10, 7))\n",
    "dendrogram(linked, orientation='top', distance_sort='descending', show_leaf_counts=True)\n",
    "plt.title('Hierarchical Clustering Dendrogram')\n",
    "plt.xlabel('Customer Index')\n",
    "plt.ylabel('Distance')\n",
    "plt.show()"
   ]
  }
 ],
 "metadata": {
  "kernelspec": {
   "display_name": "Python 3 (ipykernel)",
   "language": "python",
   "name": "python3"
  },
  "language_info": {
   "codemirror_mode": {
    "name": "ipython",
    "version": 3
   },
   "file_extension": ".py",
   "mimetype": "text/x-python",
   "name": "python",
   "nbconvert_exporter": "python",
   "pygments_lexer": "ipython3",
   "version": "3.11.5"
  }
 },
 "nbformat": 4,
 "nbformat_minor": 5
}
