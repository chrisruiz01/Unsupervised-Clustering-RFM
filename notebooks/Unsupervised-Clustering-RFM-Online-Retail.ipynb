{
 "cells": [
  {
   "cell_type": "markdown",
   "id": "23979652",
   "metadata": {},
   "source": [
    "# Unsupervised Clustering - RFM Online Retail\n",
    "\n",
    "## Table of Contents\n",
    "- [Data Overview  and Preparation](#Data-Overview-and-Preparation)\n",
    "- [RFM Analysis](#RFM-Analysis)\n",
    "- [Model Building](#Model-Building)\n",
    "- [Business Insights and Recommendations](#Business-Insights-and-Recommendations)"
   ]
  },
  {
   "cell_type": "markdown",
   "id": "3dcf44c4",
   "metadata": {},
   "source": [
    "## Introduction\n",
    "\n",
    "This project uses a dataset sourced from [UCI](https://archive.ics.uci.edu/dataset/352/online+retail).\n",
    "\n",
    "## Dataset Overview\n",
    "This is a transnational data set which contains all the transactions occurring between 01/12/2010 and 09/12/2011 for a UK-based and registered non-store online retail.The company mainly sells unique all-occasion gifts. Many customers of the company are wholesalers.\n",
    "\n",
    "* **InvoiceNo**:\ta 6-digit integral number uniquely assigned to each transaction. If this code starts with letter 'c', it indicates a cancellation\n",
    "* **StockCode**:\ta 5-digit integral number uniquely assigned to each distinct product\n",
    "* **Description**:\tproduct name\n",
    "* **Quantity**:\t\tthe quantities of each product (item) per transaction\n",
    "* **InvoiceDate**:\tthe day and time when each transaction was generated\n",
    "* **UnitPrice**:\tproduct price per unit\tsterling\n",
    "* **CustomerID**:\ta 5-digit integral number uniquely assigned to each customer\n",
    "* **Country**:\t\tthe name of the country where each customer resides\n",
    "\n",
    "## Objective\n",
    "To segment customers based on purchasing behavior using Recency, Frequency, and Monetary (RFM) analysis combined with an unsupervised learning algorithm (KMeans). "
   ]
  },
  {
   "cell_type": "code",
   "execution_count": 1,
   "id": "7dc253b3",
   "metadata": {},
   "outputs": [
    {
     "data": {
      "text/html": [
       "<style>.container {width:100% !important}</style>"
      ],
      "text/plain": [
       "<IPython.core.display.HTML object>"
      ]
     },
     "metadata": {},
     "output_type": "display_data"
    }
   ],
   "source": [
    "import pandas as pd\n",
    "import numpy as np\n",
    "from datetime import datetime\n",
    "import datetime as dt\n",
    "\n",
    "import matplotlib.pyplot as plt\n",
    "import matplotlib.dates as mdates\n",
    "from matplotlib.ticker import FuncFormatter\n",
    "import seaborn as sns\n",
    "\n",
    "from sklearn.preprocessing import RobustScaler\n",
    "\n",
    "from sklearn.decomposition import PCA\n",
    "from sklearn.cluster import KMeans, DBSCAN\n",
    "from sklearn.metrics import silhouette_score\n",
    "from sklearn.mixture import GaussianMixture\n",
    "\n",
    "from sklearn.neighbors import NearestNeighbors\n",
    "\n",
    "pd.set_option(\"display.max_columns\", None)\n",
    "plt.rcParams['figure.dpi'] = 75\n",
    "\n",
    "from IPython.display import display, HTML\n",
    "display(HTML(\"<style>.container {width:100% !important}</style>\"))"
   ]
  },
  {
   "cell_type": "code",
   "execution_count": 2,
   "id": "0459ba90",
   "metadata": {},
   "outputs": [],
   "source": [
    "data = pd.read_csv('../data/Online Retail.csv', encoding='unicode_escape')\n",
    "df = data.copy()"
   ]
  },
  {
   "cell_type": "markdown",
   "id": "0b24f777",
   "metadata": {},
   "source": [
    "## Data Overview and Preparation"
   ]
  },
  {
   "cell_type": "code",
   "execution_count": 3,
   "id": "8c86f857",
   "metadata": {},
   "outputs": [
    {
     "name": "stdout",
     "output_type": "stream",
     "text": [
      "(541909, 8)\n"
     ]
    },
    {
     "data": {
      "text/html": [
       "<div>\n",
       "<style scoped>\n",
       "    .dataframe tbody tr th:only-of-type {\n",
       "        vertical-align: middle;\n",
       "    }\n",
       "\n",
       "    .dataframe tbody tr th {\n",
       "        vertical-align: top;\n",
       "    }\n",
       "\n",
       "    .dataframe thead th {\n",
       "        text-align: right;\n",
       "    }\n",
       "</style>\n",
       "<table border=\"1\" class=\"dataframe\">\n",
       "  <thead>\n",
       "    <tr style=\"text-align: right;\">\n",
       "      <th></th>\n",
       "      <th>InvoiceNo</th>\n",
       "      <th>StockCode</th>\n",
       "      <th>Description</th>\n",
       "      <th>Quantity</th>\n",
       "      <th>InvoiceDate</th>\n",
       "      <th>UnitPrice</th>\n",
       "      <th>CustomerID</th>\n",
       "      <th>Country</th>\n",
       "    </tr>\n",
       "  </thead>\n",
       "  <tbody>\n",
       "    <tr>\n",
       "      <th>0</th>\n",
       "      <td>536365</td>\n",
       "      <td>85123A</td>\n",
       "      <td>WHITE HANGING HEART T-LIGHT HOLDER</td>\n",
       "      <td>6</td>\n",
       "      <td>12/1/2010 8:26</td>\n",
       "      <td>2.55</td>\n",
       "      <td>17850.0</td>\n",
       "      <td>United Kingdom</td>\n",
       "    </tr>\n",
       "    <tr>\n",
       "      <th>1</th>\n",
       "      <td>536365</td>\n",
       "      <td>71053</td>\n",
       "      <td>WHITE METAL LANTERN</td>\n",
       "      <td>6</td>\n",
       "      <td>12/1/2010 8:26</td>\n",
       "      <td>3.39</td>\n",
       "      <td>17850.0</td>\n",
       "      <td>United Kingdom</td>\n",
       "    </tr>\n",
       "    <tr>\n",
       "      <th>2</th>\n",
       "      <td>536365</td>\n",
       "      <td>84406B</td>\n",
       "      <td>CREAM CUPID HEARTS COAT HANGER</td>\n",
       "      <td>8</td>\n",
       "      <td>12/1/2010 8:26</td>\n",
       "      <td>2.75</td>\n",
       "      <td>17850.0</td>\n",
       "      <td>United Kingdom</td>\n",
       "    </tr>\n",
       "    <tr>\n",
       "      <th>3</th>\n",
       "      <td>536365</td>\n",
       "      <td>84029G</td>\n",
       "      <td>KNITTED UNION FLAG HOT WATER BOTTLE</td>\n",
       "      <td>6</td>\n",
       "      <td>12/1/2010 8:26</td>\n",
       "      <td>3.39</td>\n",
       "      <td>17850.0</td>\n",
       "      <td>United Kingdom</td>\n",
       "    </tr>\n",
       "    <tr>\n",
       "      <th>4</th>\n",
       "      <td>536365</td>\n",
       "      <td>84029E</td>\n",
       "      <td>RED WOOLLY HOTTIE WHITE HEART.</td>\n",
       "      <td>6</td>\n",
       "      <td>12/1/2010 8:26</td>\n",
       "      <td>3.39</td>\n",
       "      <td>17850.0</td>\n",
       "      <td>United Kingdom</td>\n",
       "    </tr>\n",
       "  </tbody>\n",
       "</table>\n",
       "</div>"
      ],
      "text/plain": [
       "  InvoiceNo StockCode                          Description  Quantity  \\\n",
       "0    536365    85123A   WHITE HANGING HEART T-LIGHT HOLDER         6   \n",
       "1    536365     71053                  WHITE METAL LANTERN         6   \n",
       "2    536365    84406B       CREAM CUPID HEARTS COAT HANGER         8   \n",
       "3    536365    84029G  KNITTED UNION FLAG HOT WATER BOTTLE         6   \n",
       "4    536365    84029E       RED WOOLLY HOTTIE WHITE HEART.         6   \n",
       "\n",
       "      InvoiceDate  UnitPrice  CustomerID         Country  \n",
       "0  12/1/2010 8:26       2.55     17850.0  United Kingdom  \n",
       "1  12/1/2010 8:26       3.39     17850.0  United Kingdom  \n",
       "2  12/1/2010 8:26       2.75     17850.0  United Kingdom  \n",
       "3  12/1/2010 8:26       3.39     17850.0  United Kingdom  \n",
       "4  12/1/2010 8:26       3.39     17850.0  United Kingdom  "
      ]
     },
     "execution_count": 3,
     "metadata": {},
     "output_type": "execute_result"
    }
   ],
   "source": [
    "print(df.shape)\n",
    "df.head()"
   ]
  },
  {
   "cell_type": "code",
   "execution_count": 4,
   "id": "eaada0eb",
   "metadata": {},
   "outputs": [
    {
     "name": "stdout",
     "output_type": "stream",
     "text": [
      "<class 'pandas.core.frame.DataFrame'>\n",
      "RangeIndex: 541909 entries, 0 to 541908\n",
      "Data columns (total 8 columns):\n",
      " #   Column       Non-Null Count   Dtype  \n",
      "---  ------       --------------   -----  \n",
      " 0   InvoiceNo    541909 non-null  object \n",
      " 1   StockCode    541909 non-null  object \n",
      " 2   Description  540455 non-null  object \n",
      " 3   Quantity     541909 non-null  int64  \n",
      " 4   InvoiceDate  541909 non-null  object \n",
      " 5   UnitPrice    541909 non-null  float64\n",
      " 6   CustomerID   406829 non-null  float64\n",
      " 7   Country      541909 non-null  object \n",
      "dtypes: float64(2), int64(1), object(5)\n",
      "memory usage: 33.1+ MB\n"
     ]
    }
   ],
   "source": [
    "df.info()"
   ]
  },
  {
   "cell_type": "code",
   "execution_count": 5,
   "id": "2a583998",
   "metadata": {},
   "outputs": [
    {
     "data": {
      "text/html": [
       "<div>\n",
       "<style scoped>\n",
       "    .dataframe tbody tr th:only-of-type {\n",
       "        vertical-align: middle;\n",
       "    }\n",
       "\n",
       "    .dataframe tbody tr th {\n",
       "        vertical-align: top;\n",
       "    }\n",
       "\n",
       "    .dataframe thead th {\n",
       "        text-align: right;\n",
       "    }\n",
       "</style>\n",
       "<table border=\"1\" class=\"dataframe\">\n",
       "  <thead>\n",
       "    <tr style=\"text-align: right;\">\n",
       "      <th></th>\n",
       "      <th>Quantity</th>\n",
       "      <th>UnitPrice</th>\n",
       "      <th>CustomerID</th>\n",
       "    </tr>\n",
       "  </thead>\n",
       "  <tbody>\n",
       "    <tr>\n",
       "      <th>count</th>\n",
       "      <td>541909.0</td>\n",
       "      <td>541909.0</td>\n",
       "      <td>406829.0</td>\n",
       "    </tr>\n",
       "    <tr>\n",
       "      <th>mean</th>\n",
       "      <td>10.0</td>\n",
       "      <td>5.0</td>\n",
       "      <td>15288.0</td>\n",
       "    </tr>\n",
       "    <tr>\n",
       "      <th>std</th>\n",
       "      <td>218.0</td>\n",
       "      <td>97.0</td>\n",
       "      <td>1714.0</td>\n",
       "    </tr>\n",
       "    <tr>\n",
       "      <th>min</th>\n",
       "      <td>-80995.0</td>\n",
       "      <td>-11062.0</td>\n",
       "      <td>12346.0</td>\n",
       "    </tr>\n",
       "    <tr>\n",
       "      <th>25%</th>\n",
       "      <td>1.0</td>\n",
       "      <td>1.0</td>\n",
       "      <td>13953.0</td>\n",
       "    </tr>\n",
       "    <tr>\n",
       "      <th>50%</th>\n",
       "      <td>3.0</td>\n",
       "      <td>2.0</td>\n",
       "      <td>15152.0</td>\n",
       "    </tr>\n",
       "    <tr>\n",
       "      <th>75%</th>\n",
       "      <td>10.0</td>\n",
       "      <td>4.0</td>\n",
       "      <td>16791.0</td>\n",
       "    </tr>\n",
       "    <tr>\n",
       "      <th>max</th>\n",
       "      <td>80995.0</td>\n",
       "      <td>38970.0</td>\n",
       "      <td>18287.0</td>\n",
       "    </tr>\n",
       "  </tbody>\n",
       "</table>\n",
       "</div>"
      ],
      "text/plain": [
       "       Quantity  UnitPrice  CustomerID\n",
       "count  541909.0   541909.0    406829.0\n",
       "mean       10.0        5.0     15288.0\n",
       "std       218.0       97.0      1714.0\n",
       "min    -80995.0   -11062.0     12346.0\n",
       "25%         1.0        1.0     13953.0\n",
       "50%         3.0        2.0     15152.0\n",
       "75%        10.0        4.0     16791.0\n",
       "max     80995.0    38970.0     18287.0"
      ]
     },
     "execution_count": 5,
     "metadata": {},
     "output_type": "execute_result"
    }
   ],
   "source": [
    "df.describe().round()"
   ]
  },
  {
   "cell_type": "code",
   "execution_count": 6,
   "id": "0c69c76d",
   "metadata": {},
   "outputs": [
    {
     "data": {
      "text/html": [
       "<div>\n",
       "<style scoped>\n",
       "    .dataframe tbody tr th:only-of-type {\n",
       "        vertical-align: middle;\n",
       "    }\n",
       "\n",
       "    .dataframe tbody tr th {\n",
       "        vertical-align: top;\n",
       "    }\n",
       "\n",
       "    .dataframe thead th {\n",
       "        text-align: right;\n",
       "    }\n",
       "</style>\n",
       "<table border=\"1\" class=\"dataframe\">\n",
       "  <thead>\n",
       "    <tr style=\"text-align: right;\">\n",
       "      <th></th>\n",
       "      <th>InvoiceNo</th>\n",
       "      <th>StockCode</th>\n",
       "      <th>Description</th>\n",
       "      <th>InvoiceDate</th>\n",
       "      <th>Country</th>\n",
       "    </tr>\n",
       "  </thead>\n",
       "  <tbody>\n",
       "    <tr>\n",
       "      <th>count</th>\n",
       "      <td>541909</td>\n",
       "      <td>541909</td>\n",
       "      <td>540455</td>\n",
       "      <td>541909</td>\n",
       "      <td>541909</td>\n",
       "    </tr>\n",
       "    <tr>\n",
       "      <th>unique</th>\n",
       "      <td>25900</td>\n",
       "      <td>4070</td>\n",
       "      <td>4223</td>\n",
       "      <td>23260</td>\n",
       "      <td>38</td>\n",
       "    </tr>\n",
       "    <tr>\n",
       "      <th>top</th>\n",
       "      <td>573585</td>\n",
       "      <td>85123A</td>\n",
       "      <td>WHITE HANGING HEART T-LIGHT HOLDER</td>\n",
       "      <td>10/31/2011 14:41</td>\n",
       "      <td>United Kingdom</td>\n",
       "    </tr>\n",
       "    <tr>\n",
       "      <th>freq</th>\n",
       "      <td>1114</td>\n",
       "      <td>2313</td>\n",
       "      <td>2369</td>\n",
       "      <td>1114</td>\n",
       "      <td>495478</td>\n",
       "    </tr>\n",
       "  </tbody>\n",
       "</table>\n",
       "</div>"
      ],
      "text/plain": [
       "       InvoiceNo StockCode                         Description  \\\n",
       "count     541909    541909                              540455   \n",
       "unique     25900      4070                                4223   \n",
       "top       573585    85123A  WHITE HANGING HEART T-LIGHT HOLDER   \n",
       "freq        1114      2313                                2369   \n",
       "\n",
       "             InvoiceDate         Country  \n",
       "count             541909          541909  \n",
       "unique             23260              38  \n",
       "top     10/31/2011 14:41  United Kingdom  \n",
       "freq                1114          495478  "
      ]
     },
     "execution_count": 6,
     "metadata": {},
     "output_type": "execute_result"
    }
   ],
   "source": [
    "df.describe(include='object')"
   ]
  },
  {
   "cell_type": "code",
   "execution_count": 7,
   "id": "b0d77ca5",
   "metadata": {
    "scrolled": true
   },
   "outputs": [
    {
     "data": {
      "text/plain": [
       "Country\n",
       "United Kingdom    91.4\n",
       "Germany            1.8\n",
       "France             1.6\n",
       "EIRE               1.5\n",
       "Spain              0.5\n",
       "Netherlands        0.4\n",
       "Belgium            0.4\n",
       "Switzerland        0.4\n",
       "Portugal           0.3\n",
       "Australia          0.2\n",
       "Name: proportion, dtype: float64"
      ]
     },
     "execution_count": 7,
     "metadata": {},
     "output_type": "execute_result"
    }
   ],
   "source": [
    "(df.Country.value_counts(1).round(3) * 100).head(10)"
   ]
  },
  {
   "cell_type": "code",
   "execution_count": 8,
   "id": "4ca231ec",
   "metadata": {},
   "outputs": [
    {
     "data": {
      "text/plain": [
       "(406829, 8)"
      ]
     },
     "execution_count": 8,
     "metadata": {},
     "output_type": "execute_result"
    }
   ],
   "source": [
    "# Dropping nulls\n",
    "df = df.dropna()\n",
    "df.shape"
   ]
  },
  {
   "cell_type": "code",
   "execution_count": 9,
   "id": "e51c40f3",
   "metadata": {},
   "outputs": [
    {
     "data": {
      "text/plain": [
       "(397924, 8)"
      ]
     },
     "execution_count": 9,
     "metadata": {},
     "output_type": "execute_result"
    }
   ],
   "source": [
    "# Excluding negative quantity\n",
    "df = df[df['Quantity'] >= 0]\n",
    "df.shape"
   ]
  },
  {
   "cell_type": "code",
   "execution_count": 10,
   "id": "7279c6e2",
   "metadata": {},
   "outputs": [
    {
     "data": {
      "text/plain": [
       "(392732, 8)"
      ]
     },
     "execution_count": 10,
     "metadata": {},
     "output_type": "execute_result"
    }
   ],
   "source": [
    "# Dropping dupes\n",
    "df = df.drop_duplicates()\n",
    "df.reset_index(drop=True, inplace=True)\n",
    "df.shape"
   ]
  },
  {
   "cell_type": "code",
   "execution_count": 11,
   "id": "4106eb03",
   "metadata": {},
   "outputs": [],
   "source": [
    "# Convert InvoiceDate to InvoiceDatetime and remove hours and minutes\n",
    "df['InvoiceDate'] = pd.to_datetime(df['InvoiceDate'])\n",
    "df['InvoiceDate'] = df['InvoiceDate'].dt.normalize()"
   ]
  },
  {
   "cell_type": "code",
   "execution_count": 12,
   "id": "5d00a12b",
   "metadata": {},
   "outputs": [],
   "source": [
    "# Adding sales column before aggregating\n",
    "df['sales'] = df['UnitPrice'] * df['Quantity']\n",
    "\n",
    "# Convert CustomerID to string before aggregating\n",
    "df['CustomerID'] = df['CustomerID'].astype('str')\n",
    "df['CustomerID'] = df['CustomerID'].str.rstrip('0.')"
   ]
  },
  {
   "cell_type": "code",
   "execution_count": 13,
   "id": "06f15589",
   "metadata": {},
   "outputs": [
    {
     "name": "stdout",
     "output_type": "stream",
     "text": [
      "(387877, 8)\n"
     ]
    },
    {
     "data": {
      "text/html": [
       "<div>\n",
       "<style scoped>\n",
       "    .dataframe tbody tr th:only-of-type {\n",
       "        vertical-align: middle;\n",
       "    }\n",
       "\n",
       "    .dataframe tbody tr th {\n",
       "        vertical-align: top;\n",
       "    }\n",
       "\n",
       "    .dataframe thead th {\n",
       "        text-align: right;\n",
       "    }\n",
       "</style>\n",
       "<table border=\"1\" class=\"dataframe\">\n",
       "  <thead>\n",
       "    <tr style=\"text-align: right;\">\n",
       "      <th></th>\n",
       "      <th>InvoiceNo</th>\n",
       "      <th>StockCode</th>\n",
       "      <th>Description</th>\n",
       "      <th>InvoiceDate</th>\n",
       "      <th>CustomerID</th>\n",
       "      <th>Country</th>\n",
       "      <th>Quantity</th>\n",
       "      <th>sales</th>\n",
       "    </tr>\n",
       "  </thead>\n",
       "  <tbody>\n",
       "    <tr>\n",
       "      <th>0</th>\n",
       "      <td>536365</td>\n",
       "      <td>21730</td>\n",
       "      <td>GLASS STAR FROSTED T-LIGHT HOLDER</td>\n",
       "      <td>2010-12-01</td>\n",
       "      <td>1785</td>\n",
       "      <td>United Kingdom</td>\n",
       "      <td>6</td>\n",
       "      <td>25.50</td>\n",
       "    </tr>\n",
       "    <tr>\n",
       "      <th>1</th>\n",
       "      <td>536365</td>\n",
       "      <td>22752</td>\n",
       "      <td>SET 7 BABUSHKA NESTING BOXES</td>\n",
       "      <td>2010-12-01</td>\n",
       "      <td>1785</td>\n",
       "      <td>United Kingdom</td>\n",
       "      <td>2</td>\n",
       "      <td>15.30</td>\n",
       "    </tr>\n",
       "    <tr>\n",
       "      <th>2</th>\n",
       "      <td>536365</td>\n",
       "      <td>71053</td>\n",
       "      <td>WHITE METAL LANTERN</td>\n",
       "      <td>2010-12-01</td>\n",
       "      <td>1785</td>\n",
       "      <td>United Kingdom</td>\n",
       "      <td>6</td>\n",
       "      <td>20.34</td>\n",
       "    </tr>\n",
       "    <tr>\n",
       "      <th>3</th>\n",
       "      <td>536365</td>\n",
       "      <td>84029E</td>\n",
       "      <td>RED WOOLLY HOTTIE WHITE HEART.</td>\n",
       "      <td>2010-12-01</td>\n",
       "      <td>1785</td>\n",
       "      <td>United Kingdom</td>\n",
       "      <td>6</td>\n",
       "      <td>20.34</td>\n",
       "    </tr>\n",
       "    <tr>\n",
       "      <th>4</th>\n",
       "      <td>536365</td>\n",
       "      <td>84029G</td>\n",
       "      <td>KNITTED UNION FLAG HOT WATER BOTTLE</td>\n",
       "      <td>2010-12-01</td>\n",
       "      <td>1785</td>\n",
       "      <td>United Kingdom</td>\n",
       "      <td>6</td>\n",
       "      <td>20.34</td>\n",
       "    </tr>\n",
       "  </tbody>\n",
       "</table>\n",
       "</div>"
      ],
      "text/plain": [
       "  InvoiceNo StockCode                          Description InvoiceDate  \\\n",
       "0    536365     21730    GLASS STAR FROSTED T-LIGHT HOLDER  2010-12-01   \n",
       "1    536365     22752         SET 7 BABUSHKA NESTING BOXES  2010-12-01   \n",
       "2    536365     71053                  WHITE METAL LANTERN  2010-12-01   \n",
       "3    536365    84029E       RED WOOLLY HOTTIE WHITE HEART.  2010-12-01   \n",
       "4    536365    84029G  KNITTED UNION FLAG HOT WATER BOTTLE  2010-12-01   \n",
       "\n",
       "  CustomerID         Country  Quantity  sales  \n",
       "0       1785  United Kingdom         6  25.50  \n",
       "1       1785  United Kingdom         2  15.30  \n",
       "2       1785  United Kingdom         6  20.34  \n",
       "3       1785  United Kingdom         6  20.34  \n",
       "4       1785  United Kingdom         6  20.34  "
      ]
     },
     "execution_count": 13,
     "metadata": {},
     "output_type": "execute_result"
    }
   ],
   "source": [
    "# Aggregate by date and exclude price since addition of sales column\n",
    "grouped = df.select_dtypes(exclude=np.number).drop_duplicates()\n",
    "grouped = grouped.columns.tolist()\n",
    "df = df.groupby(grouped)[['Quantity', 'sales']].sum().reset_index()\n",
    "print(df.shape)\n",
    "df.head()"
   ]
  },
  {
   "cell_type": "markdown",
   "id": "bd78406f",
   "metadata": {},
   "source": [
    "## Exploratory Data Analysis"
   ]
  },
  {
   "cell_type": "markdown",
   "id": "d9a438d3",
   "metadata": {},
   "source": [
    "What do sales and units look like over time?"
   ]
  },
  {
   "cell_type": "code",
   "execution_count": 14,
   "id": "bda22739",
   "metadata": {},
   "outputs": [
    {
     "data": {
      "image/png": "[encoded data removed]",
      "text/plain": [
       "<Figure size 750x375 with 1 Axes>"
      ]
     },
     "metadata": {},
     "output_type": "display_data"
    }
   ],
   "source": [
    "# Function to format y-axis without scientific notation\n",
    "def human_format(x, pos):\n",
    "    return f'{int(x):,}'\n",
    "\n",
    "# date lineplot\n",
    "monthly_data = df[['InvoiceDate', 'Quantity', 'sales']].resample('ME', on='InvoiceDate').sum().reset_index()\n",
    "monthly_data = monthly_data[:-1]\n",
    "\n",
    "plt.figure(figsize=(10, 5))\n",
    "sns.lineplot(x='InvoiceDate', y='sales', data=monthly_data, marker='o')\n",
    "\n",
    "# Set major locator to month and formatter to show month and year\n",
    "plt.gca().xaxis.set_major_locator(mdates.MonthLocator())\n",
    "\n",
    "# Remove scientific notation on y-axis labels\n",
    "plt.gca().yaxis.set_major_formatter(FuncFormatter(human_format))\n",
    "\n",
    "plt.title('Sales over time')\n",
    "plt.xlabel('Month')\n",
    "plt.ylabel('Sales')\n",
    "plt.grid(True)\n",
    "plt.xticks(rotation=45) \n",
    "plt.tight_layout()\n",
    "plt.show()"
   ]
  },
  {
   "cell_type": "markdown",
   "id": "607d032e",
   "metadata": {},
   "source": [
    "Sales dropped over the first two months from January to March, then again in May but began to climb to more than double by the end of the year"
   ]
  },
  {
   "cell_type": "markdown",
   "id": "a669ca69",
   "metadata": {},
   "source": [
    "## RFM Analysis\n",
    "\n",
    "**Recency:** days since last customer transaction  \n",
    "**Frequency:** number of transactions in the last 12 months  \n",
    "**Monetary Value:** total spend in the last 12 months"
   ]
  },
  {
   "cell_type": "code",
   "execution_count": 15,
   "id": "9fe1086a",
   "metadata": {},
   "outputs": [
    {
     "data": {
      "text/html": [
       "<div>\n",
       "<style scoped>\n",
       "    .dataframe tbody tr th:only-of-type {\n",
       "        vertical-align: middle;\n",
       "    }\n",
       "\n",
       "    .dataframe tbody tr th {\n",
       "        vertical-align: top;\n",
       "    }\n",
       "\n",
       "    .dataframe thead th {\n",
       "        text-align: right;\n",
       "    }\n",
       "</style>\n",
       "<table border=\"1\" class=\"dataframe\">\n",
       "  <thead>\n",
       "    <tr style=\"text-align: right;\">\n",
       "      <th></th>\n",
       "      <th>Recency</th>\n",
       "      <th>Frequency</th>\n",
       "      <th>Monetary</th>\n",
       "    </tr>\n",
       "    <tr>\n",
       "      <th>CustomerID</th>\n",
       "      <th></th>\n",
       "      <th></th>\n",
       "      <th></th>\n",
       "    </tr>\n",
       "  </thead>\n",
       "  <tbody>\n",
       "    <tr>\n",
       "      <th>12346</th>\n",
       "      <td>326</td>\n",
       "      <td>1</td>\n",
       "      <td>77183.60</td>\n",
       "    </tr>\n",
       "    <tr>\n",
       "      <th>12347</th>\n",
       "      <td>3</td>\n",
       "      <td>182</td>\n",
       "      <td>4310.00</td>\n",
       "    </tr>\n",
       "    <tr>\n",
       "      <th>12348</th>\n",
       "      <td>76</td>\n",
       "      <td>27</td>\n",
       "      <td>1797.24</td>\n",
       "    </tr>\n",
       "    <tr>\n",
       "      <th>12349</th>\n",
       "      <td>19</td>\n",
       "      <td>73</td>\n",
       "      <td>1757.55</td>\n",
       "    </tr>\n",
       "    <tr>\n",
       "      <th>1235</th>\n",
       "      <td>311</td>\n",
       "      <td>17</td>\n",
       "      <td>334.40</td>\n",
       "    </tr>\n",
       "  </tbody>\n",
       "</table>\n",
       "</div>"
      ],
      "text/plain": [
       "            Recency  Frequency  Monetary\n",
       "CustomerID                              \n",
       "12346           326          1  77183.60\n",
       "12347             3        182   4310.00\n",
       "12348            76         27   1797.24\n",
       "12349            19         73   1757.55\n",
       "1235            311         17    334.40"
      ]
     },
     "execution_count": 15,
     "metadata": {},
     "output_type": "execute_result"
    }
   ],
   "source": [
    "# Calculate the day following the last invoice date for use in the Recency calculation\n",
    "latest_day = max(df.InvoiceDate) + dt.timedelta(days=1)\n",
    "\n",
    "# Calculate Recency, Frequency and Monetary value for each customer \n",
    "rfm = df.groupby(['CustomerID']).agg({\n",
    "    'InvoiceDate': lambda x: (latest_day - x.max()).days,\n",
    "    'InvoiceNo': 'count',\n",
    "    'sales': 'sum'})\n",
    "\n",
    "# Rename columns\n",
    "rfm.rename(columns = {'InvoiceDate': 'Recency',\n",
    "                      'InvoiceNo': 'Frequency',\n",
    "                      'sales': 'Monetary'}, inplace=True)\n",
    "rfm.head()"
   ]
  },
  {
   "cell_type": "code",
   "execution_count": 16,
   "id": "df208d1a",
   "metadata": {},
   "outputs": [
    {
     "data": {
      "image/png": "[encoded data removed]",
      "text/plain": [
       "<Figure size 900x300 with 2 Axes>"
      ]
     },
     "metadata": {},
     "output_type": "display_data"
    }
   ],
   "source": [
    "# Visualizing outliers\n",
    "plt.figure(figsize=(12, 4))\n",
    "plt.subplot(1, 2, 1); sns.boxplot(rfm['Frequency'])\n",
    "plt.subplot(1, 2, 2); sns.boxplot(rfm['Monetary'])\n",
    "plt.tight_layout()\n",
    "plt.show()"
   ]
  },
  {
   "cell_type": "code",
   "execution_count": 17,
   "id": "3c71baeb",
   "metadata": {},
   "outputs": [
    {
     "data": {
      "text/html": [
       "<div>\n",
       "<style scoped>\n",
       "    .dataframe tbody tr th:only-of-type {\n",
       "        vertical-align: middle;\n",
       "    }\n",
       "\n",
       "    .dataframe tbody tr th {\n",
       "        vertical-align: top;\n",
       "    }\n",
       "\n",
       "    .dataframe thead th {\n",
       "        text-align: right;\n",
       "    }\n",
       "</style>\n",
       "<table border=\"1\" class=\"dataframe\">\n",
       "  <thead>\n",
       "    <tr style=\"text-align: right;\">\n",
       "      <th></th>\n",
       "      <th>Recency</th>\n",
       "      <th>Frequency</th>\n",
       "      <th>Monetary</th>\n",
       "      <th>Recency_Score</th>\n",
       "      <th>Frequency_Score</th>\n",
       "      <th>Monetary_Score</th>\n",
       "      <th>RFM_Score</th>\n",
       "    </tr>\n",
       "    <tr>\n",
       "      <th>CustomerID</th>\n",
       "      <th></th>\n",
       "      <th></th>\n",
       "      <th></th>\n",
       "      <th></th>\n",
       "      <th></th>\n",
       "      <th></th>\n",
       "      <th></th>\n",
       "    </tr>\n",
       "  </thead>\n",
       "  <tbody>\n",
       "    <tr>\n",
       "      <th>12346</th>\n",
       "      <td>326</td>\n",
       "      <td>1</td>\n",
       "      <td>77183.60</td>\n",
       "      <td>3.759833</td>\n",
       "      <td>0.852731</td>\n",
       "      <td>99.792579</td>\n",
       "      <td>2.050505</td>\n",
       "    </tr>\n",
       "    <tr>\n",
       "      <th>12347</th>\n",
       "      <td>3</td>\n",
       "      <td>182</td>\n",
       "      <td>4310.00</td>\n",
       "      <td>96.170754</td>\n",
       "      <td>88.315280</td>\n",
       "      <td>92.302374</td>\n",
       "      <td>4.574061</td>\n",
       "    </tr>\n",
       "    <tr>\n",
       "      <th>12348</th>\n",
       "      <td>76</td>\n",
       "      <td>27</td>\n",
       "      <td>1797.24</td>\n",
       "      <td>38.084220</td>\n",
       "      <td>37.508643</td>\n",
       "      <td>76.884075</td>\n",
       "      <td>2.668697</td>\n",
       "    </tr>\n",
       "    <tr>\n",
       "      <th>12349</th>\n",
       "      <td>19</td>\n",
       "      <td>73</td>\n",
       "      <td>1757.55</td>\n",
       "      <td>74.259602</td>\n",
       "      <td>67.434893</td>\n",
       "      <td>76.353999</td>\n",
       "      <td>3.618374</td>\n",
       "    </tr>\n",
       "    <tr>\n",
       "      <th>1235</th>\n",
       "      <td>311</td>\n",
       "      <td>17</td>\n",
       "      <td>334.40</td>\n",
       "      <td>5.263767</td>\n",
       "      <td>25.051855</td>\n",
       "      <td>28.647154</td>\n",
       "      <td>1.126618</td>\n",
       "    </tr>\n",
       "  </tbody>\n",
       "</table>\n",
       "</div>"
      ],
      "text/plain": [
       "            Recency  Frequency  Monetary  Recency_Score  Frequency_Score  \\\n",
       "CustomerID                                                                 \n",
       "12346           326          1  77183.60       3.759833         0.852731   \n",
       "12347             3        182   4310.00      96.170754        88.315280   \n",
       "12348            76         27   1797.24      38.084220        37.508643   \n",
       "12349            19         73   1757.55      74.259602        67.434893   \n",
       "1235            311         17    334.40       5.263767        25.051855   \n",
       "\n",
       "            Monetary_Score  RFM_Score  \n",
       "CustomerID                             \n",
       "12346            99.792579   2.050505  \n",
       "12347            92.302374   4.574061  \n",
       "12348            76.884075   2.668697  \n",
       "12349            76.353999   3.618374  \n",
       "1235             28.647154   1.126618  "
      ]
     },
     "execution_count": 17,
     "metadata": {},
     "output_type": "execute_result"
    }
   ],
   "source": [
    "# Calculating RFM score\n",
    "\n",
    "# Setting weights for score calculations of each R, F, and M\n",
    "recency_weight = 0.2\n",
    "frequency_weight = 0.4\n",
    "monetary_weight = 0.4\n",
    "\n",
    "# Higher rank for recency is better, since it will be divided by the max rank and give it a greater score if the recency is low\n",
    "rfm['Recency_Rank'] = rfm['Recency'].rank(ascending=False)\n",
    "rfm['Frequency_Rank'] = rfm['Frequency'].rank(ascending=True)\n",
    "rfm['Monetary_Rank'] = rfm['Monetary'].rank(ascending=True)\n",
    "\n",
    "# Normalize ranks by the highest rank and scale to 100\n",
    "rfm['Recency_Score'] = (rfm['Recency_Rank'] / rfm['Recency_Rank'].max()) * 100\n",
    "rfm['Frequency_Score'] = (rfm['Frequency_Rank'] / rfm['Frequency_Rank'].max()) * 100\n",
    "rfm['Monetary_Score'] = (rfm['Monetary_Rank'] / rfm['Monetary_Rank'].max()) * 100\n",
    "\n",
    "# Calculate the final RFM score using the given weights\n",
    "rfm['RFM_Score'] = ((rfm['Recency_Score'] * recency_weight) +\n",
    "                    (rfm['Frequency_Score'] * frequency_weight) +\n",
    "                    (rfm['Monetary_Score'] * monetary_weight))\n",
    "\n",
    "# Scale the final RFM score to be between 0 and 5\n",
    "rfm['RFM_Score'] = (rfm['RFM_Score'] / 100) * 5\n",
    "\n",
    "rfm[['Recency', 'Frequency', 'Monetary', 'Recency_Score', 'Frequency_Score', 'Monetary_Score', 'RFM_Score']].head()"
   ]
  },
  {
   "cell_type": "code",
   "execution_count": 18,
   "id": "50ede6d8",
   "metadata": {},
   "outputs": [],
   "source": [
    "# Add customer segments\n",
    "values = [rfm['RFM_Score'] < 1.6, rfm['RFM_Score'].between(1.6, 3), rfm['RFM_Score'].between(3, 4), \n",
    "          rfm['RFM_Score'].between(4, 4.5), rfm['RFM_Score'] > 4.5]\n",
    "\n",
    "labels = ['Lost customer', 'Low-value customer', 'Medium-value customer', 'High-value customer', 'Top customer']\n",
    "rfm['RFM_Segment'] = np.select(values, labels)"
   ]
  },
  {
   "cell_type": "code",
   "execution_count": 19,
   "id": "dc8148c4",
   "metadata": {},
   "outputs": [
    {
     "data": {
      "text/html": [
       "<div>\n",
       "<style scoped>\n",
       "    .dataframe tbody tr th:only-of-type {\n",
       "        vertical-align: middle;\n",
       "    }\n",
       "\n",
       "    .dataframe tbody tr th {\n",
       "        vertical-align: top;\n",
       "    }\n",
       "\n",
       "    .dataframe thead th {\n",
       "        text-align: right;\n",
       "    }\n",
       "</style>\n",
       "<table border=\"1\" class=\"dataframe\">\n",
       "  <thead>\n",
       "    <tr style=\"text-align: right;\">\n",
       "      <th></th>\n",
       "      <th>CustomerID</th>\n",
       "      <th>Recency</th>\n",
       "      <th>Frequency</th>\n",
       "      <th>Monetary</th>\n",
       "      <th>RFM_Score</th>\n",
       "      <th>RFM_Segment</th>\n",
       "    </tr>\n",
       "  </thead>\n",
       "  <tbody>\n",
       "    <tr>\n",
       "      <th>0</th>\n",
       "      <td>12346</td>\n",
       "      <td>326</td>\n",
       "      <td>1</td>\n",
       "      <td>77183.60</td>\n",
       "      <td>2.050505</td>\n",
       "      <td>Low-value customer</td>\n",
       "    </tr>\n",
       "    <tr>\n",
       "      <th>1</th>\n",
       "      <td>12347</td>\n",
       "      <td>3</td>\n",
       "      <td>182</td>\n",
       "      <td>4310.00</td>\n",
       "      <td>4.574061</td>\n",
       "      <td>Top customer</td>\n",
       "    </tr>\n",
       "    <tr>\n",
       "      <th>2</th>\n",
       "      <td>12348</td>\n",
       "      <td>76</td>\n",
       "      <td>27</td>\n",
       "      <td>1797.24</td>\n",
       "      <td>2.668697</td>\n",
       "      <td>Low-value customer</td>\n",
       "    </tr>\n",
       "    <tr>\n",
       "      <th>3</th>\n",
       "      <td>12349</td>\n",
       "      <td>19</td>\n",
       "      <td>73</td>\n",
       "      <td>1757.55</td>\n",
       "      <td>3.618374</td>\n",
       "      <td>Medium-value customer</td>\n",
       "    </tr>\n",
       "    <tr>\n",
       "      <th>4</th>\n",
       "      <td>1235</td>\n",
       "      <td>311</td>\n",
       "      <td>17</td>\n",
       "      <td>334.40</td>\n",
       "      <td>1.126618</td>\n",
       "      <td>Lost customer</td>\n",
       "    </tr>\n",
       "  </tbody>\n",
       "</table>\n",
       "</div>"
      ],
      "text/plain": [
       "  CustomerID  Recency  Frequency  Monetary  RFM_Score            RFM_Segment\n",
       "0      12346      326          1  77183.60   2.050505     Low-value customer\n",
       "1      12347        3        182   4310.00   4.574061           Top customer\n",
       "2      12348       76         27   1797.24   2.668697     Low-value customer\n",
       "3      12349       19         73   1757.55   3.618374  Medium-value customer\n",
       "4       1235      311         17    334.40   1.126618          Lost customer"
      ]
     },
     "execution_count": 19,
     "metadata": {},
     "output_type": "execute_result"
    }
   ],
   "source": [
    "# Removing intermediate calculated columns\n",
    "rfm = rfm.drop(['Recency_Rank', 'Frequency_Rank', 'Monetary_Rank',\n",
    "                'Recency_Score', 'Frequency_Score', 'Monetary_Score'], axis=1).reset_index()\n",
    "rfm.head()"
   ]
  },
  {
   "cell_type": "code",
   "execution_count": 20,
   "id": "113d72d4",
   "metadata": {},
   "outputs": [
    {
     "data": {
      "image/png": "[encoded data removed]",
      "text/plain": [
       "<Figure size 900x375 with 1 Axes>"
      ]
     },
     "metadata": {},
     "output_type": "display_data"
    }
   ],
   "source": [
    "# Visualizing RFM Segments\n",
    "segment_counts = rfm['RFM_Segment'].value_counts()\n",
    "segment_pct = (segment_counts / segment_counts.sum()) * 100\n",
    "\n",
    "plt.figure(figsize=(12, 5))\n",
    "ax = sns.countplot(data=rfm, x='RFM_Segment', order=segment_counts.index)\n",
    "for p in ax.patches:\n",
    "    percentage = '{:.0f}%'.format(100 * p.get_height() / len(rfm))\n",
    "    x = p.get_x() + p.get_width() / 2\n",
    "    y = p.get_height()\n",
    "    ax.annotate(percentage, (x, y), ha='center', va='bottom')\n",
    "\n",
    "plt.title ('RFM Segments Distribution')\n",
    "plt.xlabel('RFM Segments')\n",
    "plt.ylabel('Count')\n",
    "plt.show()"
   ]
  },
  {
   "cell_type": "code",
   "execution_count": 21,
   "id": "5f7a9378",
   "metadata": {},
   "outputs": [
    {
     "data": {
      "text/html": [
       "<div>\n",
       "<style scoped>\n",
       "    .dataframe tbody tr th:only-of-type {\n",
       "        vertical-align: middle;\n",
       "    }\n",
       "\n",
       "    .dataframe tbody tr th {\n",
       "        vertical-align: top;\n",
       "    }\n",
       "\n",
       "    .dataframe thead th {\n",
       "        text-align: right;\n",
       "    }\n",
       "</style>\n",
       "<table border=\"1\" class=\"dataframe\">\n",
       "  <thead>\n",
       "    <tr style=\"text-align: right;\">\n",
       "      <th></th>\n",
       "      <th>InvoiceNo</th>\n",
       "      <th>StockCode</th>\n",
       "      <th>Description</th>\n",
       "      <th>InvoiceDate</th>\n",
       "      <th>CustomerID</th>\n",
       "      <th>Country</th>\n",
       "      <th>Quantity</th>\n",
       "      <th>sales</th>\n",
       "      <th>RFM_Segment</th>\n",
       "      <th>RFM_Score</th>\n",
       "    </tr>\n",
       "  </thead>\n",
       "  <tbody>\n",
       "    <tr>\n",
       "      <th>0</th>\n",
       "      <td>536365</td>\n",
       "      <td>21730</td>\n",
       "      <td>GLASS STAR FROSTED T-LIGHT HOLDER</td>\n",
       "      <td>2010-12-01</td>\n",
       "      <td>1785</td>\n",
       "      <td>United Kingdom</td>\n",
       "      <td>6</td>\n",
       "      <td>25.50</td>\n",
       "      <td>Medium-value customer</td>\n",
       "      <td>3.785804</td>\n",
       "    </tr>\n",
       "    <tr>\n",
       "      <th>1</th>\n",
       "      <td>536365</td>\n",
       "      <td>22752</td>\n",
       "      <td>SET 7 BABUSHKA NESTING BOXES</td>\n",
       "      <td>2010-12-01</td>\n",
       "      <td>1785</td>\n",
       "      <td>United Kingdom</td>\n",
       "      <td>2</td>\n",
       "      <td>15.30</td>\n",
       "      <td>Medium-value customer</td>\n",
       "      <td>3.785804</td>\n",
       "    </tr>\n",
       "    <tr>\n",
       "      <th>2</th>\n",
       "      <td>536365</td>\n",
       "      <td>71053</td>\n",
       "      <td>WHITE METAL LANTERN</td>\n",
       "      <td>2010-12-01</td>\n",
       "      <td>1785</td>\n",
       "      <td>United Kingdom</td>\n",
       "      <td>6</td>\n",
       "      <td>20.34</td>\n",
       "      <td>Medium-value customer</td>\n",
       "      <td>3.785804</td>\n",
       "    </tr>\n",
       "    <tr>\n",
       "      <th>3</th>\n",
       "      <td>536365</td>\n",
       "      <td>84029E</td>\n",
       "      <td>RED WOOLLY HOTTIE WHITE HEART.</td>\n",
       "      <td>2010-12-01</td>\n",
       "      <td>1785</td>\n",
       "      <td>United Kingdom</td>\n",
       "      <td>6</td>\n",
       "      <td>20.34</td>\n",
       "      <td>Medium-value customer</td>\n",
       "      <td>3.785804</td>\n",
       "    </tr>\n",
       "    <tr>\n",
       "      <th>4</th>\n",
       "      <td>536365</td>\n",
       "      <td>84029G</td>\n",
       "      <td>KNITTED UNION FLAG HOT WATER BOTTLE</td>\n",
       "      <td>2010-12-01</td>\n",
       "      <td>1785</td>\n",
       "      <td>United Kingdom</td>\n",
       "      <td>6</td>\n",
       "      <td>20.34</td>\n",
       "      <td>Medium-value customer</td>\n",
       "      <td>3.785804</td>\n",
       "    </tr>\n",
       "  </tbody>\n",
       "</table>\n",
       "</div>"
      ],
      "text/plain": [
       "  InvoiceNo StockCode                          Description InvoiceDate  \\\n",
       "0    536365     21730    GLASS STAR FROSTED T-LIGHT HOLDER  2010-12-01   \n",
       "1    536365     22752         SET 7 BABUSHKA NESTING BOXES  2010-12-01   \n",
       "2    536365     71053                  WHITE METAL LANTERN  2010-12-01   \n",
       "3    536365    84029E       RED WOOLLY HOTTIE WHITE HEART.  2010-12-01   \n",
       "4    536365    84029G  KNITTED UNION FLAG HOT WATER BOTTLE  2010-12-01   \n",
       "\n",
       "  CustomerID         Country  Quantity  sales            RFM_Segment  \\\n",
       "0       1785  United Kingdom         6  25.50  Medium-value customer   \n",
       "1       1785  United Kingdom         2  15.30  Medium-value customer   \n",
       "2       1785  United Kingdom         6  20.34  Medium-value customer   \n",
       "3       1785  United Kingdom         6  20.34  Medium-value customer   \n",
       "4       1785  United Kingdom         6  20.34  Medium-value customer   \n",
       "\n",
       "   RFM_Score  \n",
       "0   3.785804  \n",
       "1   3.785804  \n",
       "2   3.785804  \n",
       "3   3.785804  \n",
       "4   3.785804  "
      ]
     },
     "execution_count": 21,
     "metadata": {},
     "output_type": "execute_result"
    }
   ],
   "source": [
    "# Appending RFM Segments and scores back to the full dataset\n",
    "df_rfm = df.merge(rfm[['CustomerID', 'RFM_Segment', 'RFM_Score']], on='CustomerID', how='left')\n",
    "df_rfm.head()"
   ]
  },
  {
   "cell_type": "markdown",
   "id": "ec44eb16",
   "metadata": {},
   "source": [
    "## Model Building"
   ]
  },
  {
   "cell_type": "markdown",
   "id": "16065b75",
   "metadata": {},
   "source": [
    "### K-Means"
   ]
  },
  {
   "cell_type": "code",
   "execution_count": 22,
   "id": "5605c823",
   "metadata": {},
   "outputs": [],
   "source": [
    "# Creating skinny RFM dataframe\n",
    "rfm_df = rfm[['Recency', 'Frequency', 'Monetary']]"
   ]
  },
  {
   "cell_type": "code",
   "execution_count": 23,
   "id": "21d6b28c",
   "metadata": {},
   "outputs": [],
   "source": [
    "# Scaling with Robust Scaler\n",
    "scaler = RobustScaler()\n",
    "scaled_rfm = scaler.fit_transform(rfm_df)\n",
    "scaled_rfm_df = pd.DataFrame(scaled_rfm, index=rfm.index, columns=rfm_df.columns)"
   ]
  },
  {
   "cell_type": "code",
   "execution_count": 24,
   "id": "467e7b1b",
   "metadata": {},
   "outputs": [
    {
     "data": {
      "image/png": "[encoded data removed]",
      "text/plain": [
       "<Figure size 480x360 with 1 Axes>"
      ]
     },
     "metadata": {},
     "output_type": "display_data"
    }
   ],
   "source": [
    "# Visualizing the elbow \n",
    "sse = {}\n",
    "for k in range(2, 11):\n",
    "    kmeans = KMeans(n_clusters=k, random_state=1, n_init=10)\n",
    "    kmeans.fit(scaled_rfm_df)\n",
    "    sse[k] = kmeans.inertia_\n",
    "\n",
    "plt.title('The Elbow Method')\n",
    "plt.xlabel('k')\n",
    "plt.ylabel('SSE')\n",
    "sns.pointplot(x=list(sse.keys()), y=list(sse.values()))\n",
    "plt.show()"
   ]
  },
  {
   "cell_type": "code",
   "execution_count": 25,
   "id": "015ecca9",
   "metadata": {},
   "outputs": [
    {
     "name": "stdout",
     "output_type": "stream",
     "text": [
      "For n_clusters=2, the silhouette score is 0.97768\n",
      "For n_clusters=3, the silhouette score is 0.94045\n",
      "For n_clusters=4, the silhouette score is 0.75915\n",
      "For n_clusters=5, the silhouette score is 0.73927\n",
      "For n_clusters=6, the silhouette score is 0.70992\n",
      "For n_clusters=7, the silhouette score is 0.63687\n",
      "For n_clusters=8, the silhouette score is 0.65403\n"
     ]
    }
   ],
   "source": [
    "# Silhouette analysis\n",
    "range_n_clusters = [2, 3, 4, 5, 6, 7, 8]\n",
    "\n",
    "for num_clusters in range_n_clusters:\n",
    "    \n",
    "    kmeans = KMeans(n_clusters=num_clusters, random_state=1, n_init=10)\n",
    "    kmeans.fit(scaled_rfm_df)\n",
    "    \n",
    "    cluster_labels = kmeans.labels_\n",
    "    \n",
    "    silhouette_avg = silhouette_score(scaled_rfm_df, cluster_labels)\n",
    "    print(\"For n_clusters={0}, the silhouette score is {1}\".format(num_clusters, silhouette_avg.round(5)))"
   ]
  },
  {
   "cell_type": "code",
   "execution_count": 26,
   "id": "ddcfc9bc",
   "metadata": {},
   "outputs": [
    {
     "data": {
      "image/png": "[encoded data removed]",
      "text/plain": [
       "<Figure size 600x450 with 1 Axes>"
      ]
     },
     "metadata": {},
     "output_type": "display_data"
    }
   ],
   "source": [
    "# Function to plot clusters\n",
    "def plot_clusters(data, cluster_labels, centroids, n_clusters):\n",
    "    pca = PCA(n_components=2)\n",
    "    principal_components = pca.fit_transform(data)\n",
    "    centroid_components = pca.transform(centroids)\n",
    "\n",
    "    plt.figure(figsize=(8, 6))\n",
    "    for i in range(n_clusters):\n",
    "        plt.scatter(principal_components[cluster_labels == i, 0], \n",
    "                    principal_components[cluster_labels == i, 1], \n",
    "                    label='Cluster ' + str(i + 1))\n",
    "        \n",
    "    # Plot centroids\n",
    "    plt.scatter(centroid_components[:, 0], centroid_components[:, 1], \n",
    "                s=300, c='red', label='Centroids', marker='X')\n",
    "    \n",
    "    plt.xlabel('PCA Component 1')\n",
    "    plt.ylabel('PCA Component 2')\n",
    "    plt.title(f'Clusters Visualization with {n_clusters} Clusters')\n",
    "    plt.legend()\n",
    "    plt.show()\n",
    "    \n",
    "kmeans = KMeans(n_clusters=3, random_state=1, n_init=10)\n",
    "kmeans.fit(scaled_rfm_df)\n",
    "cluster_labels = kmeans.labels_\n",
    "centroids = kmeans.cluster_centers_\n",
    "\n",
    "# Convert centroids to DataFrame with the same columns as the scaled data\n",
    "centroids_df = pd.DataFrame(centroids, columns=scaled_rfm_df.columns)\n",
    "\n",
    "# Plot clusters\n",
    "plot_clusters(scaled_rfm_df, cluster_labels, centroids_df, 3)"
   ]
  },
  {
   "cell_type": "code",
   "execution_count": 27,
   "id": "b4759848",
   "metadata": {},
   "outputs": [
    {
     "data": {
      "image/png": "[encoded data removed]",
      "text/plain": [
       "<Figure size 900x300 with 3 Axes>"
      ]
     },
     "metadata": {},
     "output_type": "display_data"
    },
    {
     "data": {
      "text/html": [
       "<div>\n",
       "<style scoped>\n",
       "    .dataframe tbody tr th:only-of-type {\n",
       "        vertical-align: middle;\n",
       "    }\n",
       "\n",
       "    .dataframe tbody tr th {\n",
       "        vertical-align: top;\n",
       "    }\n",
       "\n",
       "    .dataframe thead th {\n",
       "        text-align: right;\n",
       "    }\n",
       "</style>\n",
       "<table border=\"1\" class=\"dataframe\">\n",
       "  <thead>\n",
       "    <tr style=\"text-align: right;\">\n",
       "      <th></th>\n",
       "      <th>Recency</th>\n",
       "      <th>Frequency</th>\n",
       "      <th>Monetary</th>\n",
       "    </tr>\n",
       "    <tr>\n",
       "      <th>k_cluster</th>\n",
       "      <th></th>\n",
       "      <th></th>\n",
       "      <th></th>\n",
       "    </tr>\n",
       "  </thead>\n",
       "  <tbody>\n",
       "    <tr>\n",
       "      <th>0</th>\n",
       "      <td>93</td>\n",
       "      <td>80</td>\n",
       "      <td>1462</td>\n",
       "    </tr>\n",
       "    <tr>\n",
       "      <th>1</th>\n",
       "      <td>3</td>\n",
       "      <td>1704</td>\n",
       "      <td>209287</td>\n",
       "    </tr>\n",
       "    <tr>\n",
       "      <th>2</th>\n",
       "      <td>34</td>\n",
       "      <td>1111</td>\n",
       "      <td>55087</td>\n",
       "    </tr>\n",
       "  </tbody>\n",
       "</table>\n",
       "</div>"
      ],
      "text/plain": [
       "           Recency  Frequency  Monetary\n",
       "k_cluster                              \n",
       "0               93         80      1462\n",
       "1                3       1704    209287\n",
       "2               34       1111     55087"
      ]
     },
     "execution_count": 27,
     "metadata": {},
     "output_type": "execute_result"
    }
   ],
   "source": [
    "# Appending kmeans cluster to rfm dataframe\n",
    "rfm['k_cluster'] = kmeans.labels_\n",
    "\n",
    "# Visualizing kmeans clusters\n",
    "plt.figure(figsize=(12, 4))\n",
    "plt.subplot(1, 3, 1); sns.boxplot(x='k_cluster', y='Recency', data=rfm, hue='k_cluster')\n",
    "plt.subplot(1, 3, 2); sns.boxplot(x='k_cluster', y='Frequency', data=rfm, hue='k_cluster')\n",
    "plt.subplot(1, 3, 3); sns.boxplot(x='k_cluster', y='Monetary', data=rfm, hue='k_cluster')\n",
    "plt.tight_layout()\n",
    "plt.show()\n",
    "\n",
    "# Showing average RFM values for each cluster\n",
    "cluster_summary = rfm[['Recency', 'Frequency', 'Monetary', 'k_cluster']].groupby('k_cluster').mean()\n",
    "cluster_summary.astype('int')"
   ]
  },
  {
   "cell_type": "markdown",
   "id": "34f6c92d",
   "metadata": {},
   "source": [
    "### Business Insights and Recommendations\n",
    "**Cluster 0 - Dormant Customers** represents customers who haven't purchased in a while, as indicated by high recency, make infrequent purchases, and have low monetary value  \n",
    "\n",
    "These could be churned or inactive customers the company could target with a reactivation campain to re-engage them. The company could better understand these customers through surveys, then offer discounts or special offers. \n",
    "\n",
    "**Cluster 1 - VIP Customers** have made very recent purchases and are the most frequent buyers, as well as have the highest monetary value\n",
    "\n",
    "These are the customers to target with VIP treatment, such as dedicated customer service or exclusive offers, focusing on retention strategies to ensure they continue to feel valued and appreciated. With their high monetary value, these customers could also repond well to cross-selling or upselling techniques to introduce them to complimentary products.\n",
    "\n",
    "**Cluster 2 - Loyal Customers** includes customers who purchased somewhat recently, make frequent purchases, and have high monetary value  \n",
    "\n",
    "The company could reward these customers through loyalty programs and offer personalized recommendations based on their purchasing history."
   ]
  },
  {
   "cell_type": "markdown",
   "id": "f0c10d48",
   "metadata": {},
   "source": [
    "[Back to TOC](#Table-of-Contents)"
   ]
  }
 ],
 "metadata": {
  "kernelspec": {
   "display_name": "Python (diabetes)",
   "language": "python",
   "name": "diabetes"
  },
  "language_info": {
   "codemirror_mode": {
    "name": "ipython",
    "version": 3
   },
   "file_extension": ".py",
   "mimetype": "text/x-python",
   "name": "python",
   "nbconvert_exporter": "python",
   "pygments_lexer": "ipython3",
   "version": "3.11.9"
  }
 },
 "nbformat": 4,
 "nbformat_minor": 5
}
